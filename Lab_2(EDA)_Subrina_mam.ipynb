{
  "cells": [
    {
      "cell_type": "markdown",
      "metadata": {
        "id": "view-in-github",
        "colab_type": "text"
      },
      "source": [
        "<a href=\"https://colab.research.google.com/github/Maisha1714/ML_Lab_Code_from_AF/blob/main/Lab_2(EDA)_Subrina_mam.ipynb\" target=\"_parent\"><img src=\"https://colab.research.google.com/assets/colab-badge.svg\" alt=\"Open In Colab\"/></a>"
      ]
    },
    {
      "cell_type": "code",
      "execution_count": 1,
      "metadata": {
        "id": "GPDZrcG2D76R"
      },
      "outputs": [],
      "source": [
        "import pandas as pd\n",
        "import seaborn as sns"
      ]
    },
    {
      "cell_type": "code",
      "execution_count": 2,
      "metadata": {
        "id": "287sbs8GD76U"
      },
      "outputs": [],
      "source": [
        "df = pd.read_csv('/content/kidney_disease.csv')"
      ]
    },
    {
      "cell_type": "code",
      "execution_count": 3,
      "metadata": {
        "id": "kkBGXjtbD76V",
        "outputId": "fb869f80-5a36-43b5-b2bb-e15d39a1d5ff",
        "colab": {
          "base_uri": "https://localhost:8080/",
          "height": 255
        }
      },
      "outputs": [
        {
          "output_type": "execute_result",
          "data": {
            "text/plain": [
              "   id   age    bp     sg   al   su     rbc        pc         pcc          ba  \\\n",
              "0   0  48.0  80.0  1.020  1.0  0.0     NaN    normal  notpresent  notpresent   \n",
              "1   1   7.0  50.0  1.020  4.0  0.0     NaN    normal  notpresent  notpresent   \n",
              "2   2  62.0  80.0  1.010  2.0  3.0  normal    normal  notpresent  notpresent   \n",
              "3   3  48.0  70.0  1.005  4.0  0.0  normal  abnormal     present  notpresent   \n",
              "4   4  51.0  80.0  1.010  2.0  0.0  normal    normal  notpresent  notpresent   \n",
              "\n",
              "   ...  pcv    wc   rc  htn   dm  cad appet   pe  ane classification  \n",
              "0  ...   44  7800  5.2  yes  yes   no  good   no   no            ckd  \n",
              "1  ...   38  6000  NaN   no   no   no  good   no   no            ckd  \n",
              "2  ...   31  7500  NaN   no  yes   no  poor   no  yes            ckd  \n",
              "3  ...   32  6700  3.9  yes   no   no  poor  yes  yes            ckd  \n",
              "4  ...   35  7300  4.6   no   no   no  good   no   no            ckd  \n",
              "\n",
              "[5 rows x 26 columns]"
            ],
            "text/html": [
              "\n",
              "  <div id=\"df-3ddbc00b-8f67-47f8-bc6a-2c7236b2e573\" class=\"colab-df-container\">\n",
              "    <div>\n",
              "<style scoped>\n",
              "    .dataframe tbody tr th:only-of-type {\n",
              "        vertical-align: middle;\n",
              "    }\n",
              "\n",
              "    .dataframe tbody tr th {\n",
              "        vertical-align: top;\n",
              "    }\n",
              "\n",
              "    .dataframe thead th {\n",
              "        text-align: right;\n",
              "    }\n",
              "</style>\n",
              "<table border=\"1\" class=\"dataframe\">\n",
              "  <thead>\n",
              "    <tr style=\"text-align: right;\">\n",
              "      <th></th>\n",
              "      <th>id</th>\n",
              "      <th>age</th>\n",
              "      <th>bp</th>\n",
              "      <th>sg</th>\n",
              "      <th>al</th>\n",
              "      <th>su</th>\n",
              "      <th>rbc</th>\n",
              "      <th>pc</th>\n",
              "      <th>pcc</th>\n",
              "      <th>ba</th>\n",
              "      <th>...</th>\n",
              "      <th>pcv</th>\n",
              "      <th>wc</th>\n",
              "      <th>rc</th>\n",
              "      <th>htn</th>\n",
              "      <th>dm</th>\n",
              "      <th>cad</th>\n",
              "      <th>appet</th>\n",
              "      <th>pe</th>\n",
              "      <th>ane</th>\n",
              "      <th>classification</th>\n",
              "    </tr>\n",
              "  </thead>\n",
              "  <tbody>\n",
              "    <tr>\n",
              "      <th>0</th>\n",
              "      <td>0</td>\n",
              "      <td>48.0</td>\n",
              "      <td>80.0</td>\n",
              "      <td>1.020</td>\n",
              "      <td>1.0</td>\n",
              "      <td>0.0</td>\n",
              "      <td>NaN</td>\n",
              "      <td>normal</td>\n",
              "      <td>notpresent</td>\n",
              "      <td>notpresent</td>\n",
              "      <td>...</td>\n",
              "      <td>44</td>\n",
              "      <td>7800</td>\n",
              "      <td>5.2</td>\n",
              "      <td>yes</td>\n",
              "      <td>yes</td>\n",
              "      <td>no</td>\n",
              "      <td>good</td>\n",
              "      <td>no</td>\n",
              "      <td>no</td>\n",
              "      <td>ckd</td>\n",
              "    </tr>\n",
              "    <tr>\n",
              "      <th>1</th>\n",
              "      <td>1</td>\n",
              "      <td>7.0</td>\n",
              "      <td>50.0</td>\n",
              "      <td>1.020</td>\n",
              "      <td>4.0</td>\n",
              "      <td>0.0</td>\n",
              "      <td>NaN</td>\n",
              "      <td>normal</td>\n",
              "      <td>notpresent</td>\n",
              "      <td>notpresent</td>\n",
              "      <td>...</td>\n",
              "      <td>38</td>\n",
              "      <td>6000</td>\n",
              "      <td>NaN</td>\n",
              "      <td>no</td>\n",
              "      <td>no</td>\n",
              "      <td>no</td>\n",
              "      <td>good</td>\n",
              "      <td>no</td>\n",
              "      <td>no</td>\n",
              "      <td>ckd</td>\n",
              "    </tr>\n",
              "    <tr>\n",
              "      <th>2</th>\n",
              "      <td>2</td>\n",
              "      <td>62.0</td>\n",
              "      <td>80.0</td>\n",
              "      <td>1.010</td>\n",
              "      <td>2.0</td>\n",
              "      <td>3.0</td>\n",
              "      <td>normal</td>\n",
              "      <td>normal</td>\n",
              "      <td>notpresent</td>\n",
              "      <td>notpresent</td>\n",
              "      <td>...</td>\n",
              "      <td>31</td>\n",
              "      <td>7500</td>\n",
              "      <td>NaN</td>\n",
              "      <td>no</td>\n",
              "      <td>yes</td>\n",
              "      <td>no</td>\n",
              "      <td>poor</td>\n",
              "      <td>no</td>\n",
              "      <td>yes</td>\n",
              "      <td>ckd</td>\n",
              "    </tr>\n",
              "    <tr>\n",
              "      <th>3</th>\n",
              "      <td>3</td>\n",
              "      <td>48.0</td>\n",
              "      <td>70.0</td>\n",
              "      <td>1.005</td>\n",
              "      <td>4.0</td>\n",
              "      <td>0.0</td>\n",
              "      <td>normal</td>\n",
              "      <td>abnormal</td>\n",
              "      <td>present</td>\n",
              "      <td>notpresent</td>\n",
              "      <td>...</td>\n",
              "      <td>32</td>\n",
              "      <td>6700</td>\n",
              "      <td>3.9</td>\n",
              "      <td>yes</td>\n",
              "      <td>no</td>\n",
              "      <td>no</td>\n",
              "      <td>poor</td>\n",
              "      <td>yes</td>\n",
              "      <td>yes</td>\n",
              "      <td>ckd</td>\n",
              "    </tr>\n",
              "    <tr>\n",
              "      <th>4</th>\n",
              "      <td>4</td>\n",
              "      <td>51.0</td>\n",
              "      <td>80.0</td>\n",
              "      <td>1.010</td>\n",
              "      <td>2.0</td>\n",
              "      <td>0.0</td>\n",
              "      <td>normal</td>\n",
              "      <td>normal</td>\n",
              "      <td>notpresent</td>\n",
              "      <td>notpresent</td>\n",
              "      <td>...</td>\n",
              "      <td>35</td>\n",
              "      <td>7300</td>\n",
              "      <td>4.6</td>\n",
              "      <td>no</td>\n",
              "      <td>no</td>\n",
              "      <td>no</td>\n",
              "      <td>good</td>\n",
              "      <td>no</td>\n",
              "      <td>no</td>\n",
              "      <td>ckd</td>\n",
              "    </tr>\n",
              "  </tbody>\n",
              "</table>\n",
              "<p>5 rows × 26 columns</p>\n",
              "</div>\n",
              "    <div class=\"colab-df-buttons\">\n",
              "\n",
              "  <div class=\"colab-df-container\">\n",
              "    <button class=\"colab-df-convert\" onclick=\"convertToInteractive('df-3ddbc00b-8f67-47f8-bc6a-2c7236b2e573')\"\n",
              "            title=\"Convert this dataframe to an interactive table.\"\n",
              "            style=\"display:none;\">\n",
              "\n",
              "  <svg xmlns=\"http://www.w3.org/2000/svg\" height=\"24px\" viewBox=\"0 -960 960 960\">\n",
              "    <path d=\"M120-120v-720h720v720H120Zm60-500h600v-160H180v160Zm220 220h160v-160H400v160Zm0 220h160v-160H400v160ZM180-400h160v-160H180v160Zm440 0h160v-160H620v160ZM180-180h160v-160H180v160Zm440 0h160v-160H620v160Z\"/>\n",
              "  </svg>\n",
              "    </button>\n",
              "\n",
              "  <style>\n",
              "    .colab-df-container {\n",
              "      display:flex;\n",
              "      gap: 12px;\n",
              "    }\n",
              "\n",
              "    .colab-df-convert {\n",
              "      background-color: #E8F0FE;\n",
              "      border: none;\n",
              "      border-radius: 50%;\n",
              "      cursor: pointer;\n",
              "      display: none;\n",
              "      fill: #1967D2;\n",
              "      height: 32px;\n",
              "      padding: 0 0 0 0;\n",
              "      width: 32px;\n",
              "    }\n",
              "\n",
              "    .colab-df-convert:hover {\n",
              "      background-color: #E2EBFA;\n",
              "      box-shadow: 0px 1px 2px rgba(60, 64, 67, 0.3), 0px 1px 3px 1px rgba(60, 64, 67, 0.15);\n",
              "      fill: #174EA6;\n",
              "    }\n",
              "\n",
              "    .colab-df-buttons div {\n",
              "      margin-bottom: 4px;\n",
              "    }\n",
              "\n",
              "    [theme=dark] .colab-df-convert {\n",
              "      background-color: #3B4455;\n",
              "      fill: #D2E3FC;\n",
              "    }\n",
              "\n",
              "    [theme=dark] .colab-df-convert:hover {\n",
              "      background-color: #434B5C;\n",
              "      box-shadow: 0px 1px 3px 1px rgba(0, 0, 0, 0.15);\n",
              "      filter: drop-shadow(0px 1px 2px rgba(0, 0, 0, 0.3));\n",
              "      fill: #FFFFFF;\n",
              "    }\n",
              "  </style>\n",
              "\n",
              "    <script>\n",
              "      const buttonEl =\n",
              "        document.querySelector('#df-3ddbc00b-8f67-47f8-bc6a-2c7236b2e573 button.colab-df-convert');\n",
              "      buttonEl.style.display =\n",
              "        google.colab.kernel.accessAllowed ? 'block' : 'none';\n",
              "\n",
              "      async function convertToInteractive(key) {\n",
              "        const element = document.querySelector('#df-3ddbc00b-8f67-47f8-bc6a-2c7236b2e573');\n",
              "        const dataTable =\n",
              "          await google.colab.kernel.invokeFunction('convertToInteractive',\n",
              "                                                    [key], {});\n",
              "        if (!dataTable) return;\n",
              "\n",
              "        const docLinkHtml = 'Like what you see? Visit the ' +\n",
              "          '<a target=\"_blank\" href=https://colab.research.google.com/notebooks/data_table.ipynb>data table notebook</a>'\n",
              "          + ' to learn more about interactive tables.';\n",
              "        element.innerHTML = '';\n",
              "        dataTable['output_type'] = 'display_data';\n",
              "        await google.colab.output.renderOutput(dataTable, element);\n",
              "        const docLink = document.createElement('div');\n",
              "        docLink.innerHTML = docLinkHtml;\n",
              "        element.appendChild(docLink);\n",
              "      }\n",
              "    </script>\n",
              "  </div>\n",
              "\n",
              "\n",
              "<div id=\"df-fc5630bd-9b3e-42e8-b0c7-d07a6654aa95\">\n",
              "  <button class=\"colab-df-quickchart\" onclick=\"quickchart('df-fc5630bd-9b3e-42e8-b0c7-d07a6654aa95')\"\n",
              "            title=\"Suggest charts\"\n",
              "            style=\"display:none;\">\n",
              "\n",
              "<svg xmlns=\"http://www.w3.org/2000/svg\" height=\"24px\"viewBox=\"0 0 24 24\"\n",
              "     width=\"24px\">\n",
              "    <g>\n",
              "        <path d=\"M19 3H5c-1.1 0-2 .9-2 2v14c0 1.1.9 2 2 2h14c1.1 0 2-.9 2-2V5c0-1.1-.9-2-2-2zM9 17H7v-7h2v7zm4 0h-2V7h2v10zm4 0h-2v-4h2v4z\"/>\n",
              "    </g>\n",
              "</svg>\n",
              "  </button>\n",
              "\n",
              "<style>\n",
              "  .colab-df-quickchart {\n",
              "      --bg-color: #E8F0FE;\n",
              "      --fill-color: #1967D2;\n",
              "      --hover-bg-color: #E2EBFA;\n",
              "      --hover-fill-color: #174EA6;\n",
              "      --disabled-fill-color: #AAA;\n",
              "      --disabled-bg-color: #DDD;\n",
              "  }\n",
              "\n",
              "  [theme=dark] .colab-df-quickchart {\n",
              "      --bg-color: #3B4455;\n",
              "      --fill-color: #D2E3FC;\n",
              "      --hover-bg-color: #434B5C;\n",
              "      --hover-fill-color: #FFFFFF;\n",
              "      --disabled-bg-color: #3B4455;\n",
              "      --disabled-fill-color: #666;\n",
              "  }\n",
              "\n",
              "  .colab-df-quickchart {\n",
              "    background-color: var(--bg-color);\n",
              "    border: none;\n",
              "    border-radius: 50%;\n",
              "    cursor: pointer;\n",
              "    display: none;\n",
              "    fill: var(--fill-color);\n",
              "    height: 32px;\n",
              "    padding: 0;\n",
              "    width: 32px;\n",
              "  }\n",
              "\n",
              "  .colab-df-quickchart:hover {\n",
              "    background-color: var(--hover-bg-color);\n",
              "    box-shadow: 0 1px 2px rgba(60, 64, 67, 0.3), 0 1px 3px 1px rgba(60, 64, 67, 0.15);\n",
              "    fill: var(--button-hover-fill-color);\n",
              "  }\n",
              "\n",
              "  .colab-df-quickchart-complete:disabled,\n",
              "  .colab-df-quickchart-complete:disabled:hover {\n",
              "    background-color: var(--disabled-bg-color);\n",
              "    fill: var(--disabled-fill-color);\n",
              "    box-shadow: none;\n",
              "  }\n",
              "\n",
              "  .colab-df-spinner {\n",
              "    border: 2px solid var(--fill-color);\n",
              "    border-color: transparent;\n",
              "    border-bottom-color: var(--fill-color);\n",
              "    animation:\n",
              "      spin 1s steps(1) infinite;\n",
              "  }\n",
              "\n",
              "  @keyframes spin {\n",
              "    0% {\n",
              "      border-color: transparent;\n",
              "      border-bottom-color: var(--fill-color);\n",
              "      border-left-color: var(--fill-color);\n",
              "    }\n",
              "    20% {\n",
              "      border-color: transparent;\n",
              "      border-left-color: var(--fill-color);\n",
              "      border-top-color: var(--fill-color);\n",
              "    }\n",
              "    30% {\n",
              "      border-color: transparent;\n",
              "      border-left-color: var(--fill-color);\n",
              "      border-top-color: var(--fill-color);\n",
              "      border-right-color: var(--fill-color);\n",
              "    }\n",
              "    40% {\n",
              "      border-color: transparent;\n",
              "      border-right-color: var(--fill-color);\n",
              "      border-top-color: var(--fill-color);\n",
              "    }\n",
              "    60% {\n",
              "      border-color: transparent;\n",
              "      border-right-color: var(--fill-color);\n",
              "    }\n",
              "    80% {\n",
              "      border-color: transparent;\n",
              "      border-right-color: var(--fill-color);\n",
              "      border-bottom-color: var(--fill-color);\n",
              "    }\n",
              "    90% {\n",
              "      border-color: transparent;\n",
              "      border-bottom-color: var(--fill-color);\n",
              "    }\n",
              "  }\n",
              "</style>\n",
              "\n",
              "  <script>\n",
              "    async function quickchart(key) {\n",
              "      const quickchartButtonEl =\n",
              "        document.querySelector('#' + key + ' button');\n",
              "      quickchartButtonEl.disabled = true;  // To prevent multiple clicks.\n",
              "      quickchartButtonEl.classList.add('colab-df-spinner');\n",
              "      try {\n",
              "        const charts = await google.colab.kernel.invokeFunction(\n",
              "            'suggestCharts', [key], {});\n",
              "      } catch (error) {\n",
              "        console.error('Error during call to suggestCharts:', error);\n",
              "      }\n",
              "      quickchartButtonEl.classList.remove('colab-df-spinner');\n",
              "      quickchartButtonEl.classList.add('colab-df-quickchart-complete');\n",
              "    }\n",
              "    (() => {\n",
              "      let quickchartButtonEl =\n",
              "        document.querySelector('#df-fc5630bd-9b3e-42e8-b0c7-d07a6654aa95 button');\n",
              "      quickchartButtonEl.style.display =\n",
              "        google.colab.kernel.accessAllowed ? 'block' : 'none';\n",
              "    })();\n",
              "  </script>\n",
              "</div>\n",
              "\n",
              "    </div>\n",
              "  </div>\n"
            ],
            "application/vnd.google.colaboratory.intrinsic+json": {
              "type": "dataframe",
              "variable_name": "df"
            }
          },
          "metadata": {},
          "execution_count": 3
        }
      ],
      "source": [
        "df.head()"
      ]
    },
    {
      "cell_type": "markdown",
      "source": [
        "# **Using df.to_string() ensures that all data (rows and columns) is displayed without ellipsis or truncation, which helps in analyzing the complete dataset.**"
      ],
      "metadata": {
        "id": "J3A4eDxxaFfZ"
      }
    },
    {
      "cell_type": "code",
      "source": [
        "print(df.to_string())"
      ],
      "metadata": {
        "colab": {
          "base_uri": "https://localhost:8080/"
        },
        "id": "C9fVDYazGhc9",
        "outputId": "cdfee0b7-2878-4668-9499-c9c97ce0fb41"
      },
      "execution_count": null,
      "outputs": [
        {
          "output_type": "stream",
          "name": "stdout",
          "text": [
            "      id   age     bp     sg   al   su       rbc        pc         pcc          ba    bgr     bu     sc    sod   pot  hemo   pcv      wc   rc  htn     dm   cad appet   pe  ane classification\n",
            "0      0  48.0   80.0  1.020  1.0  0.0       NaN    normal  notpresent  notpresent  121.0   36.0   1.20    NaN   NaN  15.4    44    7800  5.2  yes    yes    no  good   no   no            ckd\n",
            "1      1   7.0   50.0  1.020  4.0  0.0       NaN    normal  notpresent  notpresent    NaN   18.0   0.80    NaN   NaN  11.3    38    6000  NaN   no     no    no  good   no   no            ckd\n",
            "2      2  62.0   80.0  1.010  2.0  3.0    normal    normal  notpresent  notpresent  423.0   53.0   1.80    NaN   NaN   9.6    31    7500  NaN   no    yes    no  poor   no  yes            ckd\n",
            "3      3  48.0   70.0  1.005  4.0  0.0    normal  abnormal     present  notpresent  117.0   56.0   3.80  111.0   2.5  11.2    32    6700  3.9  yes     no    no  poor  yes  yes            ckd\n",
            "4      4  51.0   80.0  1.010  2.0  0.0    normal    normal  notpresent  notpresent  106.0   26.0   1.40    NaN   NaN  11.6    35    7300  4.6   no     no    no  good   no   no            ckd\n",
            "5      5  60.0   90.0  1.015  3.0  0.0       NaN       NaN  notpresent  notpresent   74.0   25.0   1.10  142.0   3.2  12.2    39    7800  4.4  yes    yes    no  good  yes   no            ckd\n",
            "6      6  68.0   70.0  1.010  0.0  0.0       NaN    normal  notpresent  notpresent  100.0   54.0  24.00  104.0   4.0  12.4    36     NaN  NaN   no     no    no  good   no   no            ckd\n",
            "7      7  24.0    NaN  1.015  2.0  4.0    normal  abnormal  notpresent  notpresent  410.0   31.0   1.10    NaN   NaN  12.4    44    6900    5   no    yes    no  good  yes   no            ckd\n",
            "8      8  52.0  100.0  1.015  3.0  0.0    normal  abnormal     present  notpresent  138.0   60.0   1.90    NaN   NaN  10.8    33    9600  4.0  yes    yes    no  good   no  yes            ckd\n",
            "9      9  53.0   90.0  1.020  2.0  0.0  abnormal  abnormal     present  notpresent   70.0  107.0   7.20  114.0   3.7   9.5    29   12100  3.7  yes    yes    no  poor   no  yes            ckd\n",
            "10    10  50.0   60.0  1.010  2.0  4.0       NaN  abnormal     present  notpresent  490.0   55.0   4.00    NaN   NaN   9.4    28     NaN  NaN  yes    yes    no  good   no  yes            ckd\n",
            "11    11  63.0   70.0  1.010  3.0  0.0  abnormal  abnormal     present  notpresent  380.0   60.0   2.70  131.0   4.2  10.8    32    4500  3.8  yes    yes    no  poor  yes   no            ckd\n",
            "12    12  68.0   70.0  1.015  3.0  1.0       NaN    normal     present  notpresent  208.0   72.0   2.10  138.0   5.8   9.7    28   12200  3.4  yes    yes   yes  poor  yes   no            ckd\n",
            "13    13  68.0   70.0    NaN  NaN  NaN       NaN       NaN  notpresent  notpresent   98.0   86.0   4.60  135.0   3.4   9.8   NaN     NaN  NaN  yes    yes   yes  poor  yes   no            ckd\n",
            "14    14  68.0   80.0  1.010  3.0  2.0    normal  abnormal     present     present  157.0   90.0   4.10  130.0   6.4   5.6    16   11000  2.6  yes    yes   yes  poor  yes   no            ckd\n",
            "15    15  40.0   80.0  1.015  3.0  0.0       NaN    normal  notpresent  notpresent   76.0  162.0   9.60  141.0   4.9   7.6    24    3800  2.8  yes     no    no  good   no  yes            ckd\n",
            "16    16  47.0   70.0  1.015  2.0  0.0       NaN    normal  notpresent  notpresent   99.0   46.0   2.20  138.0   4.1  12.6   NaN     NaN  NaN   no     no    no  good   no   no            ckd\n",
            "17    17  47.0   80.0    NaN  NaN  NaN       NaN       NaN  notpresent  notpresent  114.0   87.0   5.20  139.0   3.7  12.1   NaN     NaN  NaN  yes     no    no  poor   no   no            ckd\n",
            "18    18  60.0  100.0  1.025  0.0  3.0       NaN    normal  notpresent  notpresent  263.0   27.0   1.30  135.0   4.3  12.7    37   11400  4.3  yes    yes   yes  good   no   no            ckd\n",
            "19    19  62.0   60.0  1.015  1.0  0.0       NaN  abnormal     present  notpresent  100.0   31.0   1.60    NaN   NaN  10.3    30    5300  3.7  yes     no   yes  good   no   no            ckd\n",
            "20    20  61.0   80.0  1.015  2.0  0.0  abnormal  abnormal  notpresent  notpresent  173.0  148.0   3.90  135.0   5.2   7.7    24    9200  3.2  yes    yes   yes  poor  yes  yes            ckd\n",
            "21    21  60.0   90.0    NaN  NaN  NaN       NaN       NaN  notpresent  notpresent    NaN  180.0  76.00    4.5   NaN  10.9    32    6200  3.6  yes    yes   yes  good   no   no            ckd\n",
            "22    22  48.0   80.0  1.025  4.0  0.0    normal  abnormal  notpresent  notpresent   95.0  163.0   7.70  136.0   3.8   9.8    32    6900  3.4  yes     no    no  good   no  yes            ckd\n",
            "23    23  21.0   70.0  1.010  0.0  0.0       NaN    normal  notpresent  notpresent    NaN    NaN    NaN    NaN   NaN   NaN   NaN     NaN  NaN   no     no    no  poor   no  yes            ckd\n",
            "24    24  42.0  100.0  1.015  4.0  0.0    normal  abnormal  notpresent     present    NaN   50.0   1.40  129.0   4.0  11.1    39    8300  4.6  yes     no    no  poor   no   no            ckd\n",
            "25    25  61.0   60.0  1.025  0.0  0.0       NaN    normal  notpresent  notpresent  108.0   75.0   1.90  141.0   5.2   9.9    29    8400  3.7  yes    yes    no  good   no  yes            ckd\n",
            "26    26  75.0   80.0  1.015  0.0  0.0       NaN    normal  notpresent  notpresent  156.0   45.0   2.40  140.0   3.4  11.6    35   10300    4  yes    yes    no  poor   no   no            ckd\n",
            "27    27  69.0   70.0  1.010  3.0  4.0    normal  abnormal  notpresent  notpresent  264.0   87.0   2.70  130.0   4.0  12.5    37    9600  4.1  yes    yes   yes  good  yes   no            ckd\n",
            "28    28  75.0   70.0    NaN  1.0  3.0       NaN       NaN  notpresent  notpresent  123.0   31.0   1.40    NaN   NaN   NaN   NaN     NaN  NaN   no    yes    no  good   no   no            ckd\n",
            "29    29  68.0   70.0  1.005  1.0  0.0  abnormal  abnormal     present  notpresent    NaN   28.0   1.40    NaN   NaN  12.9    38     NaN  NaN   no     no   yes  good   no   no            ckd\n",
            "30    30   NaN   70.0    NaN  NaN  NaN       NaN       NaN  notpresent  notpresent   93.0  155.0   7.30  132.0   4.9   NaN   NaN     NaN  NaN  yes    yes    no  good   no   no            ckd\n",
            "31    31  73.0   90.0  1.015  3.0  0.0       NaN  abnormal     present  notpresent  107.0   33.0   1.50  141.0   4.6  10.1    30    7800    4   no     no    no  poor   no   no            ckd\n",
            "32    32  61.0   90.0  1.010  1.0  1.0       NaN    normal  notpresent  notpresent  159.0   39.0   1.50  133.0   4.9  11.3    34    9600  4.0  yes    yes    no  poor   no   no            ckd\n",
            "33    33  60.0  100.0  1.020  2.0  0.0  abnormal  abnormal  notpresent  notpresent  140.0   55.0   2.50    NaN   NaN  10.1    29     NaN  NaN  yes     no    no  poor   no   no            ckd\n",
            "34    34  70.0   70.0  1.010  1.0  0.0    normal       NaN     present     present  171.0  153.0   5.20    NaN   NaN   NaN   NaN     NaN  NaN   no    yes    no  poor   no   no            ckd\n",
            "35    35  65.0   90.0  1.020  2.0  1.0  abnormal    normal  notpresent  notpresent  270.0   39.0   2.00    NaN   NaN  12.0    36    9800  4.9  yes    yes    no  poor   no  yes            ckd\n",
            "36    36  76.0   70.0  1.015  1.0  0.0    normal    normal  notpresent  notpresent   92.0   29.0   1.80  133.0   3.9  10.3    32     NaN  NaN  yes     no    no  good   no   no            ckd\n",
            "37    37  72.0   80.0    NaN  NaN  NaN       NaN       NaN  notpresent  notpresent  137.0   65.0   3.40  141.0   4.7   9.7    28    6900  2.5  yes    yes    no  poor   no  yes          ckd\\t\n",
            "38    38  69.0   80.0  1.020  3.0  0.0  abnormal    normal  notpresent  notpresent    NaN  103.0   4.10  132.0   5.9  12.5   NaN     NaN  NaN  yes     no    no  good   no   no            ckd\n",
            "39    39  82.0   80.0  1.010  2.0  2.0    normal       NaN  notpresent  notpresent  140.0   70.0   3.40  136.0   4.2  13.0    40    9800  4.2  yes    yes    no  good   no   no            ckd\n",
            "40    40  46.0   90.0  1.010  2.0  0.0    normal  abnormal  notpresent  notpresent   99.0   80.0   2.10    NaN   NaN  11.1    32    9100  4.1  yes     no  \\tno  good   no   no            ckd\n",
            "41    41  45.0   70.0  1.010  0.0  0.0       NaN    normal  notpresent  notpresent    NaN   20.0   0.70    NaN   NaN   NaN   NaN     NaN  NaN   no     no    no  good  yes   no            ckd\n",
            "42    42  47.0  100.0  1.010  0.0  0.0       NaN    normal  notpresent  notpresent  204.0   29.0   1.00  139.0   4.2   9.7    33    9200  4.5  yes     no    no  good   no  yes            ckd\n",
            "43    43  35.0   80.0  1.010  1.0  0.0  abnormal       NaN  notpresent  notpresent   79.0  202.0  10.80  134.0   3.4   7.9    24    7900  3.1   no    yes    no  good   no   no            ckd\n",
            "44    44  54.0   80.0  1.010  3.0  0.0  abnormal  abnormal  notpresent  notpresent  207.0   77.0   6.30  134.0   4.8   9.7    28     NaN  NaN  yes    yes    no  poor  yes   no            ckd\n",
            "45    45  54.0   80.0  1.020  3.0  0.0       NaN  abnormal  notpresent  notpresent  208.0   89.0   5.90  130.0   4.9   9.3   NaN     NaN  NaN  yes    yes    no  poor  yes   no            ckd\n",
            "46    46  48.0   70.0  1.015  0.0  0.0       NaN    normal  notpresent  notpresent  124.0   24.0   1.20  142.0   4.2  12.4    37    6400  4.7   no    yes    no  good   no   no            ckd\n",
            "47    47  11.0   80.0  1.010  3.0  0.0       NaN    normal  notpresent  notpresent    NaN   17.0   0.80    NaN   NaN  15.0    45    8600  NaN   no     no    no  good   no   no            ckd\n",
            "48    48  73.0   70.0  1.005  0.0  0.0    normal    normal  notpresent  notpresent   70.0   32.0   0.90  125.0   4.0  10.0    29   18900  3.5  yes    yes    no  good  yes   no            ckd\n",
            "49    49  60.0   70.0  1.010  2.0  0.0    normal  abnormal     present  notpresent  144.0   72.0   3.00    NaN   NaN   9.7    29   21600  3.5  yes    yes    no  poor   no  yes            ckd\n",
            "50    50  53.0   60.0    NaN  NaN  NaN       NaN       NaN  notpresent  notpresent   91.0  114.0   3.25  142.0   4.3   8.6    28   11000  3.8  yes    yes    no  poor  yes  yes            ckd\n",
            "51    51  54.0  100.0  1.015  3.0  0.0       NaN    normal     present  notpresent  162.0   66.0   1.60  136.0   4.4  10.3    33     NaN  NaN  yes    yes    no  poor  yes   no            ckd\n",
            "52    52  53.0   90.0  1.015  0.0  0.0       NaN    normal  notpresent  notpresent    NaN   38.0   2.20    NaN   NaN  10.9    34    4300  3.7   no     no    no  poor   no  yes            ckd\n",
            "53    53  62.0   80.0  1.015  0.0  5.0       NaN       NaN  notpresent  notpresent  246.0   24.0   1.00    NaN   NaN  13.6    40    8500  4.7  yes    yes    no  good   no   no            ckd\n",
            "54    54  63.0   80.0  1.010  2.0  2.0    normal       NaN  notpresent  notpresent    NaN    NaN   3.40  136.0   4.2  13.0    40    9800  4.2  yes     no   yes  good   no   no            ckd\n",
            "55    55  35.0   80.0  1.005  3.0  0.0  abnormal    normal  notpresent  notpresent    NaN    NaN    NaN    NaN   NaN   9.5    28     NaN  NaN   no     no    no  good  yes   no            ckd\n",
            "56    56  76.0   70.0  1.015  3.0  4.0    normal  abnormal     present  notpresent    NaN  164.0   9.70  131.0   4.4  10.2    30   11300  3.4  yes    yes   yes  poor  yes   no            ckd\n",
            "57    57  76.0   90.0    NaN  NaN  NaN       NaN    normal  notpresent  notpresent   93.0  155.0   7.30  132.0   4.9   NaN   NaN     NaN  NaN  yes    yes   yes  poor   no   no            ckd\n",
            "58    58  73.0   80.0  1.020  2.0  0.0  abnormal  abnormal  notpresent  notpresent  253.0  142.0   4.60  138.0   5.8  10.5    33    7200  4.3  yes    yes   yes  good   no   no            ckd\n",
            "59    59  59.0  100.0    NaN  NaN  NaN       NaN       NaN  notpresent  notpresent    NaN   96.0   6.40    NaN   NaN   6.6   NaN     NaN  NaN  yes    yes    no  good   no  yes            ckd\n",
            "60    60  67.0   90.0  1.020  1.0  0.0       NaN  abnormal     present  notpresent  141.0   66.0   3.20  138.0   6.6   NaN   NaN     NaN  NaN  yes     no    no  good   no   no            ckd\n",
            "61    61  67.0   80.0  1.010  1.0  3.0    normal  abnormal  notpresent  notpresent  182.0  391.0  32.00  163.0  39.0   NaN   NaN     NaN  NaN   no     no    no  good  yes   no            ckd\n",
            "62    62  15.0   60.0  1.020  3.0  0.0       NaN    normal  notpresent  notpresent   86.0   15.0   0.60  138.0   4.0  11.0    33    7700  3.8  yes    yes    no  good   no   no            ckd\n",
            "63    63  46.0   70.0  1.015  1.0  0.0  abnormal    normal  notpresent  notpresent  150.0  111.0   6.10  131.0   3.7   7.5    27     NaN  NaN   no     no    no  good   no  yes            ckd\n",
            "64    64  55.0   80.0  1.010  0.0  0.0       NaN    normal  notpresent  notpresent  146.0    NaN    NaN    NaN   NaN   9.8   NaN     NaN  NaN   no     no  \\tno  good   no   no            ckd\n",
            "65    65  44.0   90.0  1.010  1.0  0.0       NaN    normal  notpresent  notpresent    NaN   20.0   1.10    NaN   NaN  15.0    48     NaN  NaN   no   \\tno    no  good   no   no            ckd\n",
            "66    66  67.0   70.0  1.020  2.0  0.0  abnormal    normal  notpresent  notpresent  150.0   55.0   1.60  131.0   4.8   NaN   \\t?     NaN  NaN  yes    yes    no  good  yes   no            ckd\n",
            "67    67  45.0   80.0  1.020  3.0  0.0    normal  abnormal  notpresent  notpresent  425.0    NaN    NaN    NaN   NaN   NaN   NaN     NaN  NaN   no     no    no  poor   no   no            ckd\n",
            "68    68  65.0   70.0  1.010  2.0  0.0       NaN    normal     present  notpresent  112.0   73.0   3.30    NaN   NaN  10.9    37     NaN  NaN   no     no    no  good   no   no            ckd\n",
            "69    69  26.0   70.0  1.015  0.0  4.0       NaN    normal  notpresent  notpresent  250.0   20.0   1.10    NaN   NaN  15.6    52    6900  6.0   no    yes    no  good   no   no            ckd\n",
            "70    70  61.0   80.0  1.015  0.0  4.0       NaN    normal  notpresent  notpresent  360.0   19.0   0.70  137.0   4.4  15.2    44    8300  5.2  yes    yes    no  good   no   no            ckd\n",
            "71    71  46.0   60.0  1.010  1.0  0.0    normal    normal  notpresent  notpresent  163.0   92.0   3.30  141.0   4.0   9.8    28   14600  3.2  yes    yes    no  good   no   no            ckd\n",
            "72    72  64.0   90.0  1.010  3.0  3.0       NaN  abnormal     present  notpresent    NaN   35.0   1.30    NaN   NaN  10.3   NaN     NaN  NaN  yes    yes    no  good  yes   no            ckd\n",
            "73    73   NaN  100.0  1.015  2.0  0.0  abnormal  abnormal  notpresent  notpresent  129.0  107.0   6.70  132.0   4.4   4.8    14    6300  NaN  yes     no    no  good  yes  yes            ckd\n",
            "74    74  56.0   90.0  1.015  2.0  0.0  abnormal  abnormal  notpresent  notpresent  129.0  107.0   6.70  131.0   4.8   9.1    29    6400  3.4  yes     no    no  good   no   no            ckd\n",
            "75    75   5.0    NaN  1.015  1.0  0.0       NaN    normal  notpresent  notpresent    NaN   16.0   0.70  138.0   3.2   8.1   NaN     NaN  NaN   no     no    no  good   no  yes            ckd\n",
            "76    76  48.0   80.0  1.005  4.0  0.0  abnormal  abnormal  notpresent     present  133.0  139.0   8.50  132.0   5.5  10.3    36  \\t6200    4   no    yes    no  good  yes   no            ckd\n",
            "77    77  67.0   70.0  1.010  1.0  0.0       NaN    normal  notpresent  notpresent  102.0   48.0   3.20  137.0   5.0  11.9    34    7100  3.7  yes    yes    no  good  yes   no            ckd\n",
            "78    78  70.0   80.0    NaN  NaN  NaN       NaN       NaN  notpresent  notpresent  158.0   85.0   3.20  141.0   3.5  10.1    30     NaN  NaN  yes     no    no  good  yes   no            ckd\n",
            "79    79  56.0   80.0  1.010  1.0  0.0       NaN    normal  notpresent  notpresent  165.0   55.0   1.80    NaN   NaN  13.5    40   11800  5.0  yes    yes    no  poor  yes   no            ckd\n",
            "80    80  74.0   80.0  1.010  0.0  0.0       NaN    normal  notpresent  notpresent  132.0   98.0   2.80  133.0   5.0  10.8    31    9400  3.8  yes    yes    no  good   no   no            ckd\n",
            "81    81  45.0   90.0    NaN  NaN  NaN       NaN       NaN  notpresent  notpresent  360.0   45.0   2.40  128.0   4.4   8.3    29    5500  3.7  yes    yes    no  good   no   no            ckd\n",
            "82    82  38.0   70.0    NaN  NaN  NaN       NaN       NaN  notpresent  notpresent  104.0   77.0   1.90  140.0   3.9   NaN   NaN     NaN  NaN  yes     no    no  poor  yes   no            ckd\n",
            "83    83  48.0   70.0  1.015  1.0  0.0    normal    normal  notpresent  notpresent  127.0   19.0   1.00  134.0   3.6   NaN   NaN     NaN  NaN  yes    yes    no  good   no   no            ckd\n",
            "84    84  59.0   70.0  1.010  3.0  0.0    normal  abnormal  notpresent  notpresent   76.0  186.0  15.00  135.0   7.6   7.1    22    3800  2.1  yes     no    no  poor  yes  yes            ckd\n",
            "85    85  70.0   70.0  1.015  2.0  NaN       NaN       NaN  notpresent  notpresent    NaN   46.0   1.50    NaN   NaN   9.9   NaN     NaN  NaN   no    yes    no  poor  yes   no            ckd\n",
            "86    86  56.0   80.0    NaN  NaN  NaN       NaN       NaN  notpresent  notpresent  415.0   37.0   1.90    NaN   NaN   NaN   NaN     NaN  NaN   no    yes    no  good   no   no            ckd\n",
            "87    87  70.0  100.0  1.005  1.0  0.0    normal  abnormal     present  notpresent  169.0   47.0   2.90    NaN   NaN  11.1    32    5800    5  yes    yes    no  poor   no   no            ckd\n",
            "88    88  58.0  110.0  1.010  4.0  0.0       NaN    normal  notpresent  notpresent  251.0   52.0   2.20    NaN   NaN   NaN   NaN   13200  4.7  yes  \\tyes    no  good   no   no            ckd\n",
            "89    89  50.0   70.0  1.020  0.0  0.0       NaN    normal  notpresent  notpresent  109.0   32.0   1.40  139.0   4.7   NaN   NaN     NaN  NaN   no     no    no  poor   no   no            ckd\n",
            "90    90  63.0  100.0  1.010  2.0  2.0    normal    normal  notpresent     present  280.0   35.0   3.20  143.0   3.5  13.0    40    9800  4.2  yes     no   yes  good   no   no            ckd\n",
            "91    91  56.0   70.0  1.015  4.0  1.0  abnormal    normal  notpresent  notpresent  210.0   26.0   1.70  136.0   3.8  16.1    52   12500  5.6   no     no    no  good   no   no            ckd\n",
            "92    92  71.0   70.0  1.010  3.0  0.0    normal  abnormal     present     present  219.0   82.0   3.60  133.0   4.4  10.4    33    5600  3.6  yes    yes   yes  good   no   no            ckd\n",
            "93    93  73.0  100.0  1.010  3.0  2.0  abnormal  abnormal     present  notpresent  295.0   90.0   5.60  140.0   2.9   9.2    30    7000  3.2  yes    yes   yes  poor   no   no            ckd\n",
            "94    94  65.0   70.0  1.010  0.0  0.0       NaN    normal  notpresent  notpresent   93.0   66.0   1.60  137.0   4.5  11.6    36   11900  3.9   no    yes    no  good   no   no            ckd\n",
            "95    95  62.0   90.0  1.015  1.0  0.0       NaN    normal  notpresent  notpresent   94.0   25.0   1.10  131.0   3.7   NaN   NaN     NaN  NaN  yes     no    no  good  yes  yes            ckd\n",
            "96    96  60.0   80.0  1.010  1.0  1.0       NaN    normal  notpresent  notpresent  172.0   32.0   2.70    NaN   NaN  11.2    36     NaN  NaN   no    yes   yes  poor   no   no            ckd\n",
            "97    97  65.0   60.0  1.015  1.0  0.0       NaN    normal  notpresent  notpresent   91.0   51.0   2.20  132.0   3.8  10.0    32    9100  4.0  yes    yes    no  poor  yes   no            ckd\n",
            "98    98  50.0  140.0    NaN  NaN  NaN       NaN       NaN  notpresent  notpresent  101.0  106.0   6.50  135.0   4.3   6.2    18    5800  2.3  yes    yes    no  poor   no  yes            ckd\n",
            "99    99  56.0  180.0    NaN  0.0  4.0       NaN  abnormal  notpresent  notpresent  298.0   24.0   1.20  139.0   3.9  11.2    32   10400  4.2  yes    yes    no  poor  yes   no            ckd\n",
            "100  100  34.0   70.0  1.015  4.0  0.0  abnormal  abnormal  notpresent  notpresent  153.0   22.0   0.90  133.0   3.8   NaN   NaN     NaN  NaN   no     no    no  good  yes   no            ckd\n",
            "101  101  71.0   90.0  1.015  2.0  0.0       NaN  abnormal     present     present   88.0   80.0   4.40  139.0   5.7  11.3    33   10700  3.9   no     no    no  good   no   no            ckd\n",
            "102  102  17.0   60.0  1.010  0.0  0.0       NaN    normal  notpresent  notpresent   92.0   32.0   2.10  141.0   4.2  13.9    52    7000  NaN   no     no    no  good   no   no            ckd\n",
            "103  103  76.0   70.0  1.015  2.0  0.0    normal  abnormal     present  notpresent  226.0  217.0  10.20    NaN   NaN  10.2    36   12700  4.2  yes     no    no  poor  yes  yes            ckd\n",
            "104  104  55.0   90.0    NaN  NaN  NaN       NaN       NaN  notpresent  notpresent  143.0   88.0   2.00    NaN   NaN   NaN   NaN     NaN  NaN  yes    yes    no  poor  yes   no            ckd\n",
            "105  105  65.0   80.0  1.015  0.0  0.0       NaN    normal  notpresent  notpresent  115.0   32.0  11.50  139.0   4.0  14.1    42    6800  5.2   no     no    no  good   no   no            ckd\n",
            "106  106  50.0   90.0    NaN  NaN  NaN       NaN       NaN  notpresent  notpresent   89.0  118.0   6.10  127.0   4.4   6.0    17    6500  NaN  yes    yes    no  good  yes  yes            ckd\n",
            "107  107  55.0  100.0  1.015  1.0  4.0    normal       NaN  notpresent  notpresent  297.0   53.0   2.80  139.0   4.5  11.2    34   13600  4.4  yes    yes    no  good   no   no            ckd\n",
            "108  108  45.0   80.0  1.015  0.0  0.0       NaN  abnormal  notpresent  notpresent  107.0   15.0   1.00  141.0   4.2  11.8    37   10200  4.2   no     no    no  good   no   no            ckd\n",
            "109  109  54.0   70.0    NaN  NaN  NaN       NaN       NaN  notpresent  notpresent  233.0   50.1   1.90    NaN   NaN  11.7   NaN     NaN  NaN   no    yes    no  good   no   no            ckd\n",
            "110  110  63.0   90.0  1.015  0.0  0.0       NaN    normal  notpresent  notpresent  123.0   19.0   2.00  142.0   3.8  11.7    34   11400  4.7   no     no    no  good   no   no            ckd\n",
            "111  111  65.0   80.0  1.010  3.0  3.0       NaN    normal  notpresent  notpresent  294.0   71.0   4.40  128.0   5.4  10.0    32    9000  3.9  yes    yes   yes  good   no   no            ckd\n",
            "112  112   NaN   60.0  1.015  3.0  0.0  abnormal  abnormal  notpresent  notpresent    NaN   34.0   1.20    NaN   NaN  10.8    33     NaN  NaN   no     no    no  good   no   no            ckd\n",
            "113  113  61.0   90.0  1.015  0.0  2.0       NaN    normal  notpresent  notpresent    NaN    NaN    NaN    NaN   NaN   NaN   NaN    9800  NaN   no    yes    no  poor   no  yes            ckd\n",
            "114  114  12.0   60.0  1.015  3.0  0.0  abnormal  abnormal     present  notpresent    NaN   51.0   1.80    NaN   NaN  12.1   NaN   10300  NaN   no     no    no  good   no   no            ckd\n",
            "115  115  47.0   80.0  1.010  0.0  0.0       NaN  abnormal  notpresent  notpresent    NaN   28.0   0.90    NaN   NaN  12.4    44    5600  4.3   no     no    no  good   no  yes            ckd\n",
            "116  116   NaN   70.0  1.015  4.0  0.0  abnormal    normal  notpresent  notpresent  104.0   16.0   0.50    NaN   NaN   NaN   NaN     NaN  NaN   no     no    no  good  yes   no            ckd\n",
            "117  117   NaN   70.0  1.020  0.0  0.0       NaN       NaN  notpresent  notpresent  219.0   36.0   1.30  139.0   3.7  12.5    37    9800  4.4   no     no    no  good   no   no            ckd\n",
            "118  118  55.0   70.0  1.010  3.0  0.0       NaN    normal  notpresent  notpresent   99.0   25.0   1.20    NaN   NaN  11.4   NaN     NaN  NaN   no     no    no  poor  yes   no            ckd\n",
            "119  119  60.0   70.0  1.010  0.0  0.0       NaN    normal  notpresent  notpresent  140.0   27.0   1.20    NaN   NaN   NaN   NaN     NaN  NaN   no     no    no  good   no   no            ckd\n",
            "120  120  72.0   90.0  1.025  1.0  3.0       NaN    normal  notpresent  notpresent  323.0   40.0   2.20  137.0   5.3  12.6   NaN     NaN  NaN   no    yes   yes  poor   no   no            ckd\n",
            "121  121  54.0   60.0    NaN  3.0  NaN       NaN       NaN  notpresent  notpresent  125.0   21.0   1.30  137.0   3.4  15.0    46     NaN  NaN  yes    yes    no  good  yes   no            ckd\n",
            "122  122  34.0   70.0    NaN  NaN  NaN       NaN       NaN  notpresent  notpresent    NaN  219.0  12.20  130.0   3.8   6.0   NaN     NaN  NaN  yes     no    no  good   no  yes            ckd\n",
            "123  123  43.0   80.0  1.015  2.0  3.0       NaN  abnormal     present     present    NaN   30.0   1.10    NaN   NaN  14.0    42   14900  NaN   no     no    no  good   no   no            ckd\n",
            "124  124  65.0  100.0  1.015  0.0  0.0       NaN    normal  notpresent  notpresent   90.0   98.0   2.50    NaN   NaN   9.1    28    5500  3.6  yes     no    no  good   no   no            ckd\n",
            "125  125  72.0   90.0    NaN  NaN  NaN       NaN       NaN  notpresent  notpresent  308.0   36.0   2.50  131.0   4.3   NaN   NaN     NaN  NaN  yes    yes    no  poor   no   no            ckd\n",
            "126  126  70.0   90.0  1.015  0.0  0.0       NaN    normal  notpresent  notpresent  144.0  125.0   4.00  136.0   4.6  12.0    37    8200  4.5  yes    yes    no  poor  yes   no            ckd\n",
            "127  127  71.0   60.0  1.015  4.0  0.0    normal    normal  notpresent  notpresent  118.0  125.0   5.30  136.0   4.9  11.4    35   15200  4.3  yes    yes    no  poor  yes   no            ckd\n",
            "128  128  52.0   90.0  1.015  4.0  3.0    normal  abnormal  notpresent  notpresent  224.0  166.0   5.60  133.0  47.0   8.1    23    5000  2.9  yes    yes    no  good   no  yes            ckd\n",
            "129  129  75.0   70.0  1.025  1.0  0.0       NaN    normal  notpresent  notpresent  158.0   49.0   1.40  135.0   4.7  11.1   NaN     NaN  NaN  yes     no    no  poor  yes   no            ckd\n",
            "130  130  50.0   90.0  1.010  2.0  0.0    normal  abnormal     present     present  128.0  208.0   9.20  134.0   4.8   8.2    22   16300  2.7   no     no    no  poor  yes  yes            ckd\n",
            "131  131   5.0   50.0  1.010  0.0  0.0       NaN    normal  notpresent  notpresent    NaN   25.0   0.60    NaN   NaN  11.8    36   12400  NaN   no     no    no  good   no   no            ckd\n",
            "132  132  50.0    NaN    NaN  NaN  NaN    normal       NaN  notpresent  notpresent  219.0  176.0  13.80  136.0   4.5   8.6    24   13200  2.7  yes     no    no  good  yes  yes            ckd\n",
            "133  133  70.0  100.0  1.015  4.0  0.0    normal    normal  notpresent  notpresent  118.0  125.0   5.30  136.0   4.9  12.0    37  \\t8400  8.0  yes     no    no  good   no   no            ckd\n",
            "134  134  47.0  100.0  1.010  NaN  NaN    normal       NaN  notpresent  notpresent  122.0    NaN  16.90  138.0   5.2  10.8    33   10200  3.8   no    yes    no  good   no   no            ckd\n",
            "135  135  48.0   80.0  1.015  0.0  2.0       NaN    normal  notpresent  notpresent  214.0   24.0   1.30  140.0   4.0  13.2    39     NaN  NaN   no    yes    no  poor   no   no            ckd\n",
            "136  136  46.0   90.0  1.020  NaN  NaN       NaN    normal  notpresent  notpresent  213.0   68.0   2.80  146.0   6.3   9.3   NaN     NaN  NaN  yes    yes    no  good   no   no            ckd\n",
            "137  137  45.0   60.0  1.010  2.0  0.0    normal  abnormal     present  notpresent  268.0   86.0   4.00  134.0   5.1  10.0    29    9200  NaN  yes    yes    no  good   no   no            ckd\n",
            "138  138  73.0    NaN  1.010  1.0  0.0       NaN       NaN  notpresent  notpresent   95.0   51.0   1.60  142.0   3.5   NaN   NaN     NaN  NaN   no   \\tno    no  good   no   no            ckd\n",
            "139  139  41.0   70.0  1.015  2.0  0.0       NaN  abnormal  notpresent     present    NaN   68.0   2.80  132.0   4.1  11.1    33     NaN  NaN  yes     no    no  good  yes  yes            ckd\n",
            "140  140  69.0   70.0  1.010  0.0  4.0       NaN    normal  notpresent  notpresent  256.0   40.0   1.20  142.0   5.6   NaN   NaN     NaN  NaN   no     no    no  good   no   no            ckd\n",
            "141  141  67.0   70.0  1.010  1.0  0.0    normal    normal  notpresent  notpresent    NaN  106.0   6.00  137.0   4.9   6.1    19    6500  NaN  yes     no    no  good   no  yes            ckd\n",
            "142  142  72.0   90.0    NaN  NaN  NaN       NaN       NaN  notpresent  notpresent   84.0  145.0   7.10  135.0   5.3   NaN   NaN     NaN  NaN   no    yes    no  good   no   no            ckd\n",
            "143  143  41.0   80.0  1.015  1.0  4.0  abnormal    normal  notpresent  notpresent  210.0  165.0  18.00  135.0   4.7   NaN   NaN     NaN  NaN   no    yes    no  good   no   no            ckd\n",
            "144  144  60.0   90.0  1.010  2.0  0.0  abnormal    normal  notpresent  notpresent  105.0   53.0   2.30  136.0   5.2  11.1    33   10500  4.1   no     no    no  good   no   no            ckd\n",
            "145  145  57.0   90.0  1.015  5.0  0.0  abnormal  abnormal  notpresent     present    NaN  322.0  13.00  126.0   4.8   8.0    24    4200  3.3  yes    yes   yes  poor  yes  yes            ckd\n",
            "146  146  53.0  100.0  1.010  1.0  3.0  abnormal    normal  notpresent  notpresent  213.0   23.0   1.00  139.0   4.0   NaN   NaN     NaN  NaN   no    yes    no  good   no   no            ckd\n",
            "147  147  60.0   60.0  1.010  3.0  1.0    normal  abnormal     present  notpresent  288.0   36.0   1.70  130.0   3.0   7.9    25   15200  3.0  yes     no    no  poor   no  yes            ckd\n",
            "148  148  69.0   60.0    NaN  NaN  NaN       NaN       NaN  notpresent  notpresent  171.0   26.0  48.10    NaN   NaN   NaN   NaN     NaN  NaN  yes     no    no  poor   no   no            ckd\n",
            "149  149  65.0   70.0  1.020  1.0  0.0  abnormal  abnormal  notpresent  notpresent  139.0   29.0   1.00    NaN   NaN  10.5    32     NaN  NaN  yes     no    no  good  yes   no            ckd\n",
            "150  150   8.0   60.0  1.025  3.0  0.0    normal    normal  notpresent  notpresent   78.0   27.0   0.90    NaN   NaN  12.3    41    6700  NaN   no     no    no  poor  yes   no            ckd\n",
            "151  151  76.0   90.0    NaN  NaN  NaN       NaN       NaN  notpresent  notpresent  172.0   46.0   1.70  141.0   5.5   9.6    30     NaN  NaN  yes    yes    no  good   no  yes            ckd\n",
            "152  152  39.0   70.0  1.010  0.0  0.0       NaN    normal  notpresent  notpresent  121.0   20.0   0.80  133.0   3.5  10.9    32     NaN  NaN   no    yes    no  good   no   no            ckd\n",
            "153  153  55.0   90.0  1.010  2.0  1.0  abnormal  abnormal  notpresent  notpresent  273.0  235.0  14.20  132.0   3.4   8.3    22   14600  2.9  yes    yes    no  poor  yes  yes            ckd\n",
            "154  154  56.0   90.0  1.005  4.0  3.0  abnormal  abnormal  notpresent  notpresent  242.0  132.0  16.40  140.0   4.2   8.4    26     NaN    3  yes    yes    no  poor  yes  yes            ckd\n",
            "155  155  50.0   70.0  1.020  3.0  0.0  abnormal    normal     present     present  123.0   40.0   1.80    NaN   NaN  11.1    36    4700  NaN   no     no    no  good   no   no            ckd\n",
            "156  156  66.0   90.0  1.015  2.0  0.0       NaN    normal  notpresent     present  153.0   76.0   3.30    NaN   NaN   NaN   NaN     NaN  NaN   no     no    no  poor   no   no            ckd\n",
            "157  157  62.0   70.0  1.025  3.0  0.0    normal  abnormal  notpresent  notpresent  122.0   42.0   1.70  136.0   4.7  12.6    39    7900  3.9  yes    yes    no  good   no   no            ckd\n",
            "158  158  71.0   60.0  1.020  3.0  2.0    normal    normal     present  notpresent  424.0   48.0   1.50  132.0   4.0  10.9    31     NaN  NaN  yes    yes   yes  good   no   no            ckd\n",
            "159  159  59.0   80.0  1.010  1.0  0.0  abnormal    normal  notpresent  notpresent  303.0   35.0   1.30  122.0   3.5  10.4    35   10900  4.3   no    yes    no  poor   no   no            ckd\n",
            "160  160  81.0   60.0    NaN  NaN  NaN       NaN       NaN  notpresent  notpresent  148.0   39.0   2.10  147.0   4.2  10.9    35    9400  2.4  yes    yes   yes  poor  yes   no            ckd\n",
            "161  161  62.0    NaN  1.015  3.0  0.0  abnormal       NaN  notpresent  notpresent    NaN    NaN    NaN    NaN   NaN  14.3    42   10200  4.8  yes    yes    no  good   no   no            ckd\n",
            "162  162  59.0   70.0    NaN  NaN  NaN       NaN       NaN  notpresent  notpresent  204.0   34.0   1.50  124.0   4.1   9.8    37    6000  \\t?   no    yes    no  good   no   no            ckd\n",
            "163  163  46.0   80.0  1.010  0.0  0.0       NaN    normal  notpresent  notpresent  160.0   40.0   2.00  140.0   4.1   9.0    27    8100  3.2  yes     no    no  poor   no  yes            ckd\n",
            "164  164  14.0    NaN  1.015  0.0  0.0       NaN       NaN  notpresent  notpresent  192.0   15.0   0.80  137.0   4.2  14.3    40    9500  5.4   no    yes    no  poor  yes   no            ckd\n",
            "165  165  60.0   80.0  1.020  0.0  2.0       NaN       NaN  notpresent  notpresent    NaN    NaN    NaN    NaN   NaN   NaN   NaN     NaN  NaN   no    yes    no  good   no   no            ckd\n",
            "166  166  27.0   60.0    NaN  NaN  NaN       NaN       NaN  notpresent  notpresent   76.0   44.0   3.90  127.0   4.3   NaN   NaN     NaN  NaN   no     no    no  poor  yes  yes            ckd\n",
            "167  167  34.0   70.0  1.020  0.0  0.0  abnormal    normal  notpresent  notpresent  139.0   19.0   0.90    NaN   NaN  12.7    42    2200  NaN   no     no    no  poor   no   no            ckd\n",
            "168  168  65.0   70.0  1.015  4.0  4.0       NaN    normal     present  notpresent  307.0   28.0   1.50    NaN   NaN  11.0    39    6700  NaN  yes    yes    no  good   no   no            ckd\n",
            "169  169   NaN   70.0  1.010  0.0  2.0       NaN    normal  notpresent  notpresent  220.0   68.0   2.80    NaN   NaN   8.7    27     NaN  NaN  yes    yes    no  good   no  yes            ckd\n",
            "170  170  66.0   70.0  1.015  2.0  5.0       NaN    normal  notpresent  notpresent  447.0   41.0   1.70  131.0   3.9  12.5    33    9600  4.4  yes    yes    no  good   no   no            ckd\n",
            "171  171  83.0   70.0  1.020  3.0  0.0    normal    normal  notpresent  notpresent  102.0   60.0   2.60  115.0   5.7   8.7    26   12800  3.1  yes     no    no  poor   no  yes            ckd\n",
            "172  172  62.0   80.0  1.010  1.0  2.0       NaN       NaN  notpresent  notpresent  309.0  113.0   2.90  130.0   2.5  10.6    34   12800  4.9   no     no    no  good   no   no            ckd\n",
            "173  173  17.0   70.0  1.015  1.0  0.0  abnormal    normal  notpresent  notpresent   22.0    1.5   7.30  145.0   2.8  13.1    41   11200  NaN   no     no    no  good   no   no            ckd\n",
            "174  174  54.0   70.0    NaN  NaN  NaN       NaN       NaN  notpresent  notpresent  111.0  146.0   7.50  141.0   4.7  11.0    35    8600  4.6   no     no    no  good   no   no            ckd\n",
            "175  175  60.0   50.0  1.010  0.0  0.0       NaN    normal  notpresent  notpresent  261.0   58.0   2.20  113.0   3.0   NaN   NaN    4200  3.4  yes     no    no  good   no   no            ckd\n",
            "176  176  21.0   90.0  1.010  4.0  0.0    normal  abnormal     present     present  107.0   40.0   1.70  125.0   3.5   8.3    23   12400  3.9   no     no    no  good   no  yes            ckd\n",
            "177  177  65.0   80.0  1.015  2.0  1.0    normal    normal     present  notpresent  215.0  133.0   2.50    NaN   NaN  13.2    41     NaN  NaN   no    yes    no  good   no   no            ckd\n",
            "178  178  42.0   90.0  1.020  2.0  0.0  abnormal  abnormal     present  notpresent   93.0  153.0   2.70  139.0   4.3   9.8    34    9800  NaN   no     no    no  poor  yes  yes            ckd\n",
            "179  179  72.0   90.0  1.010  2.0  0.0       NaN  abnormal     present  notpresent  124.0   53.0   2.30    NaN   NaN  11.9    39     NaN  NaN   no     no    no  good   no   no            ckd\n",
            "180  180  73.0   90.0  1.010  1.0  4.0  abnormal  abnormal     present  notpresent  234.0   56.0   1.90    NaN   NaN  10.3    28     NaN  NaN   no    yes    no  good   no   no            ckd\n",
            "181  181  45.0   70.0  1.025  2.0  0.0    normal  abnormal     present  notpresent  117.0   52.0   2.20  136.0   3.8  10.0    30   19100  3.7   no     no    no  good   no   no            ckd\n",
            "182  182  61.0   80.0  1.020  0.0  0.0       NaN    normal  notpresent  notpresent  131.0   23.0   0.80  140.0   4.1  11.3    35     NaN  NaN   no     no    no  good   no   no            ckd\n",
            "183  183  30.0   70.0  1.015  0.0  0.0       NaN    normal  notpresent  notpresent  101.0  106.0   6.50  135.0   4.3   NaN   NaN     NaN  NaN   no     no    no  poor   no   no            ckd\n",
            "184  184  54.0   60.0  1.015  3.0  2.0       NaN  abnormal  notpresent  notpresent  352.0  137.0   3.30  133.0   4.5  11.3    31    5800  3.6  yes    yes   yes  poor  yes   no            ckd\n",
            "185  185   4.0    NaN  1.020  1.0  0.0       NaN    normal  notpresent  notpresent   99.0   23.0   0.60  138.0   4.4  12.0    34     \\t?  NaN   no     no    no  good   no   no            ckd\n",
            "186  186   8.0   50.0  1.020  4.0  0.0    normal    normal  notpresent  notpresent    NaN   46.0   1.00  135.0   3.8   NaN   NaN     NaN  NaN   no     no    no  good  yes   no            ckd\n",
            "187  187   3.0    NaN  1.010  2.0  0.0    normal    normal  notpresent  notpresent    NaN   22.0   0.70    NaN   NaN  10.7    34   12300  NaN   no     no    no  good   no   no            ckd\n",
            "188  188   8.0    NaN    NaN  NaN  NaN       NaN       NaN  notpresent  notpresent   80.0   66.0   2.50  142.0   3.6  12.2    38     NaN  NaN   no   \\tno    no  good   no   no            ckd\n",
            "189  189  64.0   60.0  1.010  4.0  1.0  abnormal  abnormal  notpresent     present  239.0   58.0   4.30  137.0   5.4   9.5    29    7500  3.4  yes    yes    no  poor  yes   no            ckd\n",
            "190  190   6.0   60.0  1.010  4.0  0.0  abnormal  abnormal  notpresent     present   94.0   67.0   1.00  135.0   4.9   9.9    30   16700  4.8   no     no    no  poor   no   no            ckd\n",
            "191  191   NaN   70.0  1.010  3.0  0.0    normal    normal  notpresent  notpresent  110.0  115.0   6.00  134.0   2.7   9.1    26    9200  3.4  yes    yes    no  poor   no   no            ckd\n",
            "192  192  46.0  110.0  1.015  0.0  0.0       NaN    normal  notpresent  notpresent  130.0   16.0   0.90    NaN   NaN   NaN   NaN     NaN  NaN   no     no    no  good   no   no            ckd\n",
            "193  193  32.0   90.0  1.025  1.0  0.0  abnormal  abnormal  notpresent  notpresent    NaN  223.0  18.10  113.0   6.5   5.5    15    2600  2.8  yes    yes    no  poor  yes  yes            ckd\n",
            "194  194  80.0   70.0  1.010  2.0  NaN       NaN  abnormal  notpresent  notpresent    NaN   49.0   1.20    NaN   NaN   NaN   NaN     NaN  NaN  yes  \\tyes    no  good   no   no            ckd\n",
            "195  195  70.0   90.0  1.020  2.0  1.0  abnormal  abnormal  notpresent     present  184.0   98.6   3.30  138.0   3.9   5.8   NaN     NaN  NaN  yes    yes   yes  poor   no   no            ckd\n",
            "196  196  49.0  100.0  1.010  3.0  0.0  abnormal  abnormal  notpresent  notpresent  129.0  158.0  11.80  122.0   3.2   8.1    24    9600  3.5  yes    yes    no  poor  yes  yes            ckd\n",
            "197  197  57.0   80.0    NaN  NaN  NaN       NaN       NaN  notpresent  notpresent    NaN  111.0   9.30  124.0   5.3   6.8   NaN    4300  3.0  yes    yes    no  good   no  yes            ckd\n",
            "198  198  59.0  100.0  1.020  4.0  2.0    normal    normal  notpresent  notpresent  252.0   40.0   3.20  137.0   4.7  11.2    30   26400  3.9  yes    yes    no  poor  yes   no            ckd\n",
            "199  199  65.0   80.0  1.015  0.0  0.0       NaN    normal  notpresent  notpresent   92.0   37.0   1.50  140.0   5.2   8.8    25   10700  3.2  yes     no   yes  good  yes   no            ckd\n",
            "200  200  90.0   90.0  1.025  1.0  0.0       NaN    normal  notpresent  notpresent  139.0   89.0   3.00  140.0   4.1  12.0    37    7900  3.9  yes    yes    no  good   no   no            ckd\n",
            "201  201  64.0   70.0    NaN  NaN  NaN       NaN       NaN  notpresent  notpresent  113.0   94.0   7.30  137.0   4.3   7.9    21     NaN  NaN  yes    yes   yes  good  yes  yes            ckd\n",
            "202  202  78.0   60.0    NaN  NaN  NaN       NaN       NaN  notpresent  notpresent  114.0   74.0   2.90  135.0   5.9   8.0    24     NaN  NaN   no    yes    no  good   no  yes            ckd\n",
            "203  203   NaN   90.0    NaN  NaN  NaN       NaN       NaN  notpresent  notpresent  207.0   80.0   6.80  142.0   5.5   8.5   NaN     NaN  NaN  yes    yes    no  good   no  yes            ckd\n",
            "204  204  65.0   90.0  1.010  4.0  2.0    normal    normal  notpresent  notpresent  172.0   82.0  13.50  145.0   6.3   8.8    31     NaN  NaN  yes    yes    no  good  yes  yes            ckd\n",
            "205  205  61.0   70.0    NaN  NaN  NaN       NaN       NaN  notpresent  notpresent  100.0   28.0   2.10    NaN   NaN  12.6    43     NaN  NaN  yes    yes    no  good   no   no            ckd\n",
            "206  206  60.0   70.0  1.010  1.0  0.0       NaN    normal  notpresent  notpresent  109.0   96.0   3.90  135.0   4.0  13.8    41     NaN  NaN  yes     no    no  good   no   no            ckd\n",
            "207  207  50.0   70.0  1.010  0.0  0.0       NaN    normal  notpresent  notpresent  230.0   50.0   2.20    NaN   NaN  12.0    41   10400  4.6  yes    yes    no  good   no   no            ckd\n",
            "208  208  67.0   80.0    NaN  NaN  NaN       NaN       NaN  notpresent  notpresent  341.0   37.0   1.50    NaN   NaN  12.3    41    6900  4.9  yes    yes    no  good   no  yes            ckd\n",
            "209  209  19.0   70.0  1.020  0.0  0.0       NaN    normal  notpresent  notpresent    NaN    NaN    NaN    NaN   NaN  11.5   NaN    6900  NaN   no     no    no  good   no   no            ckd\n",
            "210  210  59.0  100.0  1.015  4.0  2.0    normal    normal  notpresent  notpresent  255.0  132.0  12.80  135.0   5.7   7.3    20    9800  3.9  yes    yes   yes  good   no  yes            ckd\n",
            "211  211  54.0  120.0  1.015  0.0  0.0       NaN    normal  notpresent  notpresent  103.0   18.0   1.20    NaN   NaN   NaN   NaN     NaN  NaN   no     no    no  good   no   no            ckd\n",
            "212  212  40.0   70.0  1.015  3.0  4.0    normal    normal  notpresent  notpresent  253.0  150.0  11.90  132.0   5.6  10.9    31    8800  3.4  yes    yes    no  poor  yes   no            ckd\n",
            "213  213  55.0   80.0  1.010  3.0  1.0    normal  abnormal     present     present  214.0   73.0   3.90  137.0   4.9  10.9    34    7400  3.7  yes    yes    no  good  yes   no            ckd\n",
            "214  214  68.0   80.0  1.015  0.0  0.0       NaN  abnormal  notpresent  notpresent  171.0   30.0   1.00    NaN   NaN  13.7  \\t43    4900  5.2   no    yes    no  good   no   no            ckd\n",
            "215  215   2.0    NaN  1.010  3.0  0.0    normal  abnormal  notpresent  notpresent    NaN    NaN    NaN    NaN   NaN   NaN   NaN     NaN  NaN   no     no    no  good  yes   no            ckd\n",
            "216  216  64.0   70.0  1.010  0.0  0.0       NaN    normal  notpresent  notpresent  107.0   15.0    NaN    NaN   NaN  12.8    38     NaN  NaN   no     no    no  good   no   no            ckd\n",
            "217  217  63.0  100.0  1.010  1.0  0.0       NaN    normal  notpresent  notpresent   78.0   61.0   1.80  141.0   4.4  12.2    36   10500  4.3   no    yes    no  good   no   no            ckd\n",
            "218  218  33.0   90.0  1.015  0.0  0.0       NaN    normal  notpresent  notpresent   92.0   19.0   0.80    NaN   NaN  11.8    34    7000  NaN   no     no    no  good   no   no            ckd\n",
            "219  219  68.0   90.0  1.010  0.0  0.0       NaN    normal  notpresent  notpresent  238.0   57.0   2.50    NaN   NaN   9.8    28    8000  3.3  yes    yes    no  poor   no   no            ckd\n",
            "220  220  36.0   80.0  1.010  0.0  0.0       NaN    normal  notpresent  notpresent  103.0    NaN    NaN    NaN   NaN  11.9    36    8800  NaN   no     no    no  good   no   no            ckd\n",
            "221  221  66.0   70.0  1.020  1.0  0.0    normal       NaN  notpresent  notpresent  248.0   30.0   1.70  138.0   5.3   NaN   NaN     NaN  NaN  yes    yes    no  good   no   no            ckd\n",
            "222  222  74.0   60.0    NaN  NaN  NaN       NaN       NaN  notpresent  notpresent  108.0   68.0   1.80    NaN   NaN   NaN   NaN     NaN  NaN  yes    yes    no  good   no   no            ckd\n",
            "223  223  71.0   90.0  1.010  0.0  3.0       NaN    normal  notpresent  notpresent  303.0   30.0   1.30  136.0   4.1  13.0    38    9200  4.6  yes    yes    no  good   no   no            ckd\n",
            "224  224  34.0   60.0  1.020  0.0  0.0       NaN    normal  notpresent  notpresent  117.0   28.0   2.20  138.0   3.8   NaN   NaN     NaN  NaN   no     no    no  good  yes   no            ckd\n",
            "225  225  60.0   90.0  1.010  3.0  5.0  abnormal    normal  notpresent     present  490.0   95.0   2.70  131.0   3.8  11.5    35   12000  4.5  yes    yes    no  good   no   no            ckd\n",
            "226  226  64.0  100.0  1.015  4.0  2.0  abnormal  abnormal  notpresent     present  163.0   54.0   7.20  140.0   4.6   7.9    26    7500  3.4  yes    yes    no  good  yes   no            ckd\n",
            "227  227  57.0   80.0  1.015  0.0  0.0       NaN    normal  notpresent  notpresent  120.0   48.0   1.60    NaN   NaN  11.3    36    7200  3.8  yes    yes    no  good   no   no            ckd\n",
            "228  228  60.0   70.0    NaN  NaN  NaN       NaN       NaN  notpresent  notpresent  124.0   52.0   2.50    NaN   NaN   NaN   NaN     NaN  NaN  yes     no    no  good   no   no            ckd\n",
            "229  229  59.0   50.0  1.010  3.0  0.0    normal  abnormal  notpresent  notpresent  241.0  191.0  12.00  114.0   2.9   9.6    31   15700  3.8   no    yes    no  good  yes   no            ckd\n",
            "230  230  65.0   60.0  1.010  2.0  0.0    normal  abnormal     present  notpresent  192.0   17.0   1.70  130.0   4.3   NaN   NaN    9500  NaN  yes    yes    no  poor   no   no          ckd\\t\n",
            "231  231  60.0   90.0    NaN  NaN  NaN       NaN       NaN  notpresent  notpresent  269.0   51.0   2.80  138.0   3.7  11.5    35     NaN  NaN  yes    yes   yes  good  yes   no            ckd\n",
            "232  232  50.0   90.0  1.015  1.0  0.0  abnormal  abnormal  notpresent  notpresent    NaN    NaN    NaN    NaN   NaN   NaN   NaN     NaN  NaN   no     no    no  good  yes   no            ckd\n",
            "233  233  51.0  100.0  1.015  2.0  0.0    normal    normal  notpresent     present   93.0   20.0   1.60  146.0   4.5   NaN   NaN     NaN  NaN   no     no    no  poor   no   no            ckd\n",
            "234  234  37.0  100.0  1.010  0.0  0.0  abnormal    normal  notpresent  notpresent    NaN   19.0   1.30    NaN   NaN  15.0    44    4100  5.2  yes     no    no  good   no   no            ckd\n",
            "235  235  45.0   70.0  1.010  2.0  0.0       NaN    normal  notpresent  notpresent  113.0   93.0   2.30    NaN   NaN   7.9    26    5700  NaN   no     no   yes  good   no  yes            ckd\n",
            "236  236  65.0   80.0    NaN  NaN  NaN       NaN       NaN  notpresent  notpresent   74.0   66.0   2.00  136.0   5.4   9.1    25     NaN  NaN  yes    yes   yes  good  yes   no            ckd\n",
            "237  237  80.0   70.0  1.015  2.0  2.0       NaN    normal  notpresent  notpresent  141.0   53.0   2.20    NaN   NaN  12.7    40    9600  NaN  yes    yes    no  poor  yes   no            ckd\n",
            "238  238  72.0  100.0    NaN  NaN  NaN       NaN       NaN  notpresent  notpresent  201.0  241.0  13.40  127.0   4.8   9.4    28     NaN  NaN  yes    yes    no  good   no  yes            ckd\n",
            "239  239  34.0   90.0  1.015  2.0  0.0    normal    normal  notpresent  notpresent  104.0   50.0   1.60  137.0   4.1  11.9    39     NaN  NaN   no     no    no  good   no   no            ckd\n",
            "240  240  65.0   70.0  1.015  1.0  0.0       NaN    normal  notpresent  notpresent  203.0   46.0   1.40    NaN   NaN  11.4    36    5000  4.1  yes    yes    no  poor  yes   no            ckd\n",
            "241  241  57.0   70.0  1.015  1.0  0.0       NaN  abnormal  notpresent  notpresent  165.0   45.0   1.50  140.0   3.3  10.4    31    4200  3.9   no     no    no  good   no   no            ckd\n",
            "242  242  69.0   70.0  1.010  4.0  3.0    normal  abnormal     present     present  214.0   96.0   6.30  120.0   3.9   9.4    28   11500  3.3  yes    yes   yes  good  yes  yes            ckd\n",
            "243  243  62.0   90.0  1.020  2.0  1.0       NaN    normal  notpresent  notpresent  169.0   48.0   2.40  138.0   2.9  13.4    47   11000  6.1  yes     no    no  good   no   no            ckd\n",
            "244  244  64.0   90.0  1.015  3.0  2.0       NaN  abnormal     present  notpresent  463.0   64.0   2.80  135.0   4.1  12.2    40    9800  4.6  yes    yes    no  good   no  yes            ckd\n",
            "245  245  48.0  100.0    NaN  NaN  NaN       NaN       NaN  notpresent  notpresent  103.0   79.0   5.30  135.0   6.3   6.3    19    7200  2.6  yes     no   yes  poor   no   no            ckd\n",
            "246  246  48.0  110.0  1.015  3.0  0.0  abnormal    normal     present  notpresent  106.0  215.0  15.20  120.0   5.7   8.6    26    5000  2.5  yes     no   yes  good   no  yes            ckd\n",
            "247  247  54.0   90.0  1.025  1.0  0.0    normal  abnormal  notpresent  notpresent  150.0   18.0   1.20  140.0   4.2   NaN   NaN     NaN  NaN   no     no    no  poor  yes  yes            ckd\n",
            "248  248  59.0   70.0  1.010  1.0  3.0  abnormal  abnormal  notpresent  notpresent  424.0   55.0   1.70  138.0   4.5  12.6    37   10200  4.1  yes    yes   yes  good   no   no            ckd\n",
            "249  249  56.0   90.0  1.010  4.0  1.0    normal  abnormal     present  notpresent  176.0  309.0  13.30  124.0   6.5   3.1     9    5400  2.1  yes    yes    no  poor  yes  yes            ckd\n",
            "250  250  40.0   80.0  1.025  0.0  0.0    normal    normal  notpresent  notpresent  140.0   10.0   1.20  135.0   5.0  15.0    48   10400  4.5   no     no    no  good   no   no         notckd\n",
            "251  251  23.0   80.0  1.025  0.0  0.0    normal    normal  notpresent  notpresent   70.0   36.0   1.00  150.0   4.6  17.0    52    9800  5.0   no     no    no  good   no   no         notckd\n",
            "252  252  45.0   80.0  1.025  0.0  0.0    normal    normal  notpresent  notpresent   82.0   49.0   0.60  147.0   4.4  15.9    46    9100  4.7   no     no    no  good   no   no         notckd\n",
            "253  253  57.0   80.0  1.025  0.0  0.0    normal    normal  notpresent  notpresent  119.0   17.0   1.20  135.0   4.7  15.4    42    6200  6.2   no     no    no  good   no   no         notckd\n",
            "254  254  51.0   60.0  1.025  0.0  0.0    normal    normal  notpresent  notpresent   99.0   38.0   0.80  135.0   3.7  13.0    49    8300  5.2   no     no    no  good   no   no         notckd\n",
            "255  255  34.0   80.0  1.025  0.0  0.0    normal    normal  notpresent  notpresent  121.0   27.0   1.20  144.0   3.9  13.6    52    9200  6.3   no     no    no  good   no   no         notckd\n",
            "256  256  60.0   80.0  1.025  0.0  0.0    normal    normal  notpresent  notpresent  131.0   10.0   0.50  146.0   5.0  14.5    41   10700  5.1   no     no    no  good   no   no         notckd\n",
            "257  257  38.0   60.0  1.020  0.0  0.0    normal    normal  notpresent  notpresent   91.0   36.0   0.70  135.0   3.7  14.0    46    9100  5.8   no     no    no  good   no   no         notckd\n",
            "258  258  42.0   80.0  1.020  0.0  0.0    normal    normal  notpresent  notpresent   98.0   20.0   0.50  140.0   3.5  13.9    44    8400  5.5   no     no    no  good   no   no         notckd\n",
            "259  259  35.0   80.0  1.020  0.0  0.0    normal    normal  notpresent  notpresent  104.0   31.0   1.20  135.0   5.0  16.1    45    4300  5.2   no     no    no  good   no   no         notckd\n",
            "260  260  30.0   80.0  1.020  0.0  0.0    normal    normal  notpresent  notpresent  131.0   38.0   1.00  147.0   3.8  14.1    45    9400  5.3   no     no    no  good   no   no         notckd\n",
            "261  261  49.0   80.0  1.020  0.0  0.0    normal    normal  notpresent  notpresent  122.0   32.0   1.20  139.0   3.9  17.0    41    5600  4.9   no     no    no  good   no   no         notckd\n",
            "262  262  55.0   80.0  1.020  0.0  0.0    normal    normal  notpresent  notpresent  118.0   18.0   0.90  135.0   3.6  15.5    43    7200  5.4   no     no    no  good   no   no         notckd\n",
            "263  263  45.0   80.0  1.020  0.0  0.0    normal    normal  notpresent  notpresent  117.0   46.0   1.20  137.0   5.0  16.2    45    8600  5.2   no     no    no  good   no   no         notckd\n",
            "264  264  42.0   80.0  1.020  0.0  0.0    normal    normal  notpresent  notpresent  132.0   24.0   0.70  140.0   4.1  14.4    50    5000  4.5   no     no    no  good   no   no         notckd\n",
            "265  265  50.0   80.0  1.020  0.0  0.0    normal    normal  notpresent  notpresent   97.0   40.0   0.60  150.0   4.5  14.2    48   10500  5.0   no     no    no  good   no   no         notckd\n",
            "266  266  55.0   80.0  1.020  0.0  0.0    normal    normal  notpresent  notpresent  133.0   17.0   1.20  135.0   4.8  13.2    41    6800  5.3   no     no    no  good   no   no         notckd\n",
            "267  267  48.0   80.0  1.025  0.0  0.0    normal    normal  notpresent  notpresent  122.0   33.0   0.90  146.0   3.9  13.9    48    9500  4.8   no     no    no  good   no   no         notckd\n",
            "268  268   NaN   80.0    NaN  NaN  NaN       NaN       NaN  notpresent  notpresent  100.0   49.0   1.00  140.0   5.0  16.3    53    8500  4.9   no     no    no  good   no   no         notckd\n",
            "269  269  25.0   80.0  1.025  0.0  0.0    normal    normal  notpresent  notpresent  121.0   19.0   1.20  142.0   4.9  15.0    48    6900  5.3   no     no    no  good   no   no         notckd\n",
            "270  270  23.0   80.0  1.025  0.0  0.0    normal    normal  notpresent  notpresent  111.0   34.0   1.10  145.0   4.0  14.3    41    7200  5.0   no     no    no  good   no   no         notckd\n",
            "271  271  30.0   80.0  1.025  0.0  0.0    normal    normal  notpresent  notpresent   96.0   25.0   0.50  144.0   4.8  13.8    42    9000  4.5   no     no    no  good   no   no         notckd\n",
            "272  272  56.0   80.0  1.025  0.0  0.0    normal    normal  notpresent  notpresent  139.0   15.0   1.20  135.0   5.0  14.8    42    5600  5.5   no     no    no  good   no   no         notckd\n",
            "273  273  47.0   80.0  1.020  0.0  0.0    normal    normal  notpresent  notpresent   95.0   35.0   0.90  140.0   4.1   NaN   NaN     NaN  NaN   no     no    no  good   no   no         notckd\n",
            "274  274  19.0   80.0  1.020  0.0  0.0    normal    normal  notpresent  notpresent  107.0   23.0   0.70  141.0   4.2  14.4    44     NaN  NaN   no     no    no  good   no   no         notckd\n",
            "275  275  52.0   80.0  1.020  0.0  0.0    normal    normal  notpresent  notpresent  125.0   22.0   1.20  139.0   4.6  16.5    43    4700  4.6   no     no    no  good   no   no         notckd\n",
            "276  276  20.0   60.0  1.025  0.0  0.0    normal    normal  notpresent  notpresent    NaN    NaN    NaN  137.0   4.7  14.0    41    4500  5.5   no     no    no  good   no   no         notckd\n",
            "277  277  46.0   60.0  1.025  0.0  0.0    normal    normal  notpresent  notpresent  123.0   46.0   1.00  135.0   5.0  15.7    50    6300  4.8   no     no    no  good   no   no         notckd\n",
            "278  278  48.0   60.0  1.020  0.0  0.0    normal    normal  notpresent  notpresent  112.0   44.0   1.20  142.0   4.9  14.5    44    9400  6.4   no     no    no  good   no   no         notckd\n",
            "279  279  24.0   70.0  1.025  0.0  0.0    normal    normal  notpresent  notpresent  140.0   23.0   0.60  140.0   4.7  16.3    48    5800  5.6   no     no    no  good   no   no         notckd\n",
            "280  280  47.0   80.0    NaN  NaN  NaN       NaN       NaN  notpresent  notpresent   93.0   33.0   0.90  144.0   4.5  13.3    52    8100  5.2   no     no    no  good   no   no         notckd\n",
            "281  281  55.0   80.0  1.025  0.0  0.0    normal    normal  notpresent  notpresent  130.0   50.0   1.20  147.0   5.0  15.5    41    9100  6.0   no     no    no  good   no   no         notckd\n",
            "282  282  20.0   70.0  1.020  0.0  0.0    normal    normal  notpresent  notpresent  123.0   44.0   1.00  135.0   3.8  14.6    44    5500  4.8   no     no    no  good   no   no         notckd\n",
            "283  283  60.0   70.0  1.020  0.0  0.0    normal    normal  notpresent  notpresent    NaN    NaN    NaN    NaN   NaN  16.4    43   10800  5.7   no     no    no  good   no   no         notckd\n",
            "284  284  33.0   80.0  1.025  0.0  0.0    normal    normal  notpresent  notpresent  100.0   37.0   1.20  142.0   4.0  16.9    52    6700  6.0   no     no    no  good   no   no         notckd\n",
            "285  285  66.0   70.0  1.020  0.0  0.0    normal    normal  notpresent  notpresent   94.0   19.0   0.70  135.0   3.9  16.0    41    5300  5.9   no     no    no  good   no   no         notckd\n",
            "286  286  71.0   70.0  1.020  0.0  0.0    normal    normal  notpresent  notpresent   81.0   18.0   0.80  145.0   5.0  14.7    44    9800  6.0   no     no    no  good   no   no         notckd\n",
            "287  287  39.0   70.0  1.025  0.0  0.0    normal    normal  notpresent  notpresent  124.0   22.0   0.60  137.0   3.8  13.4    43     NaN  NaN   no     no    no  good   no   no         notckd\n",
            "288  288  56.0   70.0  1.025  0.0  0.0    normal    normal  notpresent  notpresent   70.0   46.0   1.20  135.0   4.9  15.9    50   11000  5.1  NaN    NaN   NaN  good   no   no         notckd\n",
            "289  289  42.0   70.0  1.020  0.0  0.0    normal    normal  notpresent  notpresent   93.0   32.0   0.90  143.0   4.7  16.6    43    7100  5.3   no     no    no  good   no   no         notckd\n",
            "290  290  54.0   70.0  1.020  0.0  0.0       NaN       NaN         NaN         NaN   76.0   28.0   0.60  146.0   3.5  14.8    52    8400  5.9   no     no    no  good   no   no         notckd\n",
            "291  291  47.0   80.0  1.025  0.0  0.0    normal    normal  notpresent  notpresent  124.0   44.0   1.00  140.0   4.9  14.9    41    7000  5.7   no     no    no  good   no   no         notckd\n",
            "292  292  30.0   80.0  1.020  0.0  0.0    normal    normal  notpresent  notpresent   89.0   42.0   0.50  139.0   5.0  16.7    52   10200  5.0   no     no    no  good   no   no         notckd\n",
            "293  293  50.0    NaN  1.020  0.0  0.0    normal    normal  notpresent  notpresent   92.0   19.0   1.20  150.0   4.8  14.9    48    4700  5.4   no     no    no  good   no   no         notckd\n",
            "294  294  75.0   60.0  1.020  0.0  0.0    normal    normal  notpresent  notpresent  110.0   50.0   0.70  135.0   5.0  14.3    40    8300  5.8   no     no    no   NaN  NaN  NaN         notckd\n",
            "295  295  44.0   70.0    NaN  NaN  NaN       NaN       NaN  notpresent  notpresent  106.0   25.0   0.90  150.0   3.6  15.0    50    9600  6.5   no     no    no  good   no   no         notckd\n",
            "296  296  41.0   70.0  1.020  0.0  0.0    normal    normal  notpresent  notpresent  125.0   38.0   0.60  140.0   5.0  16.8    41    6300  5.9   no     no    no  good   no   no         notckd\n",
            "297  297  53.0   60.0  1.025  0.0  0.0    normal    normal  notpresent  notpresent  116.0   26.0   1.00  146.0   4.9  15.8    45    7700  5.2  NaN    NaN   NaN  good   no   no         notckd\n",
            "298  298  34.0   60.0  1.020  0.0  0.0    normal    normal  notpresent  notpresent   91.0   49.0   1.20  135.0   4.5  13.5    48    8600  4.9   no     no    no  good   no   no         notckd\n",
            "299  299  73.0   60.0  1.020  0.0  0.0    normal    normal  notpresent  notpresent  127.0   48.0   0.50  150.0   3.5  15.1    52   11000  4.7   no     no    no  good   no   no         notckd\n",
            "300  300  45.0   60.0  1.020  0.0  0.0    normal    normal         NaN         NaN  114.0   26.0   0.70  141.0   4.2  15.0    43    9200  5.8   no     no    no  good   no   no         notckd\n",
            "301  301  44.0   60.0  1.025  0.0  0.0    normal    normal  notpresent  notpresent   96.0   33.0   0.90  147.0   4.5  16.9    41    7200  5.0   no     no    no  good   no   no         notckd\n",
            "302  302  29.0   70.0  1.020  0.0  0.0    normal    normal  notpresent  notpresent  127.0   44.0   1.20  145.0   5.0  14.8    48     NaN  NaN   no     no    no  good   no   no         notckd\n",
            "303  303  55.0   70.0  1.020  0.0  0.0    normal    normal  notpresent  notpresent  107.0   26.0   1.10    NaN   NaN  17.0    50    6700  6.1   no     no    no  good   no   no         notckd\n",
            "304  304  33.0   80.0  1.025  0.0  0.0    normal    normal  notpresent  notpresent  128.0   38.0   0.60  135.0   3.9  13.1    45    6200  4.5   no     no    no  good   no   no         notckd\n",
            "305  305  41.0   80.0  1.020  0.0  0.0    normal    normal  notpresent  notpresent  122.0   25.0   0.80  138.0   5.0  17.1    41    9100  5.2   no     no    no  good   no   no         notckd\n",
            "306  306  52.0   80.0  1.020  0.0  0.0    normal    normal  notpresent  notpresent  128.0   30.0   1.20  140.0   4.5  15.2    52    4300  5.7   no     no    no  good   no   no         notckd\n",
            "307  307  47.0   60.0  1.020  0.0  0.0    normal    normal  notpresent  notpresent  137.0   17.0   0.50  150.0   3.5  13.6    44    7900  4.5   no     no    no  good   no   no         notckd\n",
            "308  308  43.0   80.0  1.025  0.0  0.0    normal    normal  notpresent  notpresent   81.0   46.0   0.60  135.0   4.9  13.9    48    6900  4.9   no     no    no  good   no   no         notckd\n",
            "309  309  51.0   60.0  1.020  0.0  0.0       NaN       NaN  notpresent  notpresent  129.0   25.0   1.20  139.0   5.0  17.2    40    8100  5.9   no     no    no  good   no   no         notckd\n",
            "310  310  46.0   60.0  1.020  0.0  0.0    normal    normal  notpresent  notpresent  102.0   27.0   0.70  142.0   4.9  13.2    44   11000  5.4   no     no    no  good   no   no         notckd\n",
            "311  311  56.0   60.0  1.025  0.0  0.0    normal    normal  notpresent  notpresent  132.0   18.0   1.10  147.0   4.7  13.7    45    7500  5.6   no     no    no  good   no   no         notckd\n",
            "312  312  80.0   70.0  1.020  0.0  0.0    normal    normal  notpresent  notpresent    NaN    NaN    NaN  135.0   4.1  15.3    48    6300  6.1   no     no    no  good   no   no         notckd\n",
            "313  313  55.0   80.0  1.020  0.0  0.0    normal    normal  notpresent  notpresent  104.0   28.0   0.90  142.0   4.8  17.3    52    8200  4.8   no     no    no  good   no   no         notckd\n",
            "314  314  39.0   70.0  1.025  0.0  0.0    normal    normal  notpresent  notpresent  131.0   46.0   0.60  145.0   5.0  15.6    41    9400  4.7   no     no    no  good   no   no         notckd\n",
            "315  315  44.0   70.0  1.025  0.0  0.0    normal    normal  notpresent  notpresent    NaN    NaN    NaN    NaN   NaN  13.8    48    7800  4.4   no     no    no  good   no   no         notckd\n",
            "316  316  35.0    NaN  1.020  0.0  0.0    normal    normal         NaN         NaN   99.0   30.0   0.50  135.0   4.9  15.4    48    5000  5.2   no     no    no  good   no   no         notckd\n",
            "317  317  58.0   70.0  1.020  0.0  0.0    normal    normal  notpresent  notpresent  102.0   48.0   1.20  139.0   4.3  15.0    40    8100  4.9   no     no    no  good   no   no         notckd\n",
            "318  318  61.0   70.0  1.025  0.0  0.0    normal    normal  notpresent  notpresent  120.0   29.0   0.70  137.0   3.5  17.4    52    7000  5.3   no     no    no  good   no   no         notckd\n",
            "319  319  30.0   60.0  1.020  0.0  0.0    normal    normal  notpresent  notpresent  138.0   15.0   1.10  135.0   4.4   NaN   NaN     NaN  NaN   no     no    no  good   no   no         notckd\n",
            "320  320  57.0   60.0  1.020  0.0  0.0    normal    normal  notpresent  notpresent  105.0   49.0   1.20  150.0   4.7  15.7    44   10400  6.2   no     no    no  good   no   no         notckd\n",
            "321  321  65.0   60.0  1.020  0.0  0.0    normal    normal  notpresent  notpresent  109.0   39.0   1.00  144.0   3.5  13.9    48    9600  4.8   no     no    no  good   no   no         notckd\n",
            "322  322  70.0   60.0    NaN  NaN  NaN       NaN       NaN  notpresent  notpresent  120.0   40.0   0.50  140.0   4.6  16.0    43    4500  4.9   no     no    no  good   no   no         notckd\n",
            "323  323  43.0   80.0  1.025  0.0  0.0    normal    normal  notpresent  notpresent  130.0   30.0   1.10  143.0   5.0  15.9    45    7800  4.5   no     no    no  good   no   no         notckd\n",
            "324  324  40.0   80.0  1.020  0.0  0.0    normal    normal  notpresent  notpresent  119.0   15.0   0.70  150.0   4.9   NaN   NaN     NaN  NaN   no     no    no  good   no   no         notckd\n",
            "325  325  58.0   80.0  1.020  0.0  0.0    normal    normal  notpresent  notpresent  100.0   50.0   1.20  140.0   3.5  14.0    50    6700  6.5   no     no    no  good   no   no         notckd\n",
            "326  326  47.0   60.0  1.020  0.0  0.0    normal    normal  notpresent  notpresent  109.0   25.0   1.10  141.0   4.7  15.8    41    8300  5.2   no     no    no  good   no   no         notckd\n",
            "327  327  30.0   60.0  1.025  0.0  0.0    normal    normal  notpresent  notpresent  120.0   31.0   0.80  150.0   4.6  13.4    44   10700  5.8   no     no    no  good   no   no         notckd\n",
            "328  328  28.0   70.0  1.020  0.0  0.0    normal    normal         NaN         NaN  131.0   29.0   0.60  145.0   4.9   NaN    45    8600  6.5   no     no    no  good   no   no         notckd\n",
            "329  329  33.0   60.0  1.025  0.0  0.0    normal    normal  notpresent  notpresent   80.0   25.0   0.90  146.0   3.5  14.1    48    7800  5.1   no     no    no  good   no   no         notckd\n",
            "330  330  43.0   80.0  1.020  0.0  0.0    normal    normal  notpresent  notpresent  114.0   32.0   1.10  135.0   3.9   NaN    42     NaN  NaN   no     no    no  good   no   no         notckd\n",
            "331  331  59.0   70.0  1.025  0.0  0.0    normal    normal  notpresent  notpresent  130.0   39.0   0.70  147.0   4.7  13.5    46    6700  4.5   no     no    no  good   no   no         notckd\n",
            "332  332  34.0   70.0  1.025  0.0  0.0    normal    normal  notpresent  notpresent    NaN   33.0   1.00  150.0   5.0  15.3    44   10500  6.1   no     no    no  good   no   no         notckd\n",
            "333  333  23.0   80.0  1.020  0.0  0.0    normal    normal  notpresent  notpresent   99.0   46.0   1.20  142.0   4.0  17.7    46    4300  5.5   no     no    no  good   no   no         notckd\n",
            "334  334  24.0   80.0  1.025  0.0  0.0    normal    normal  notpresent  notpresent  125.0    NaN    NaN  136.0   3.5  15.4    43    5600  4.5   no     no    no  good   no   no         notckd\n",
            "335  335  60.0   60.0  1.020  0.0  0.0    normal    normal  notpresent  notpresent  134.0   45.0   0.50  139.0   4.8  14.2    48   10700  5.6   no     no    no  good   no   no         notckd\n",
            "336  336  25.0   60.0  1.020  0.0  0.0    normal    normal  notpresent  notpresent  119.0   27.0   0.50    NaN   NaN  15.2    40    9200  5.2   no     no    no  good   no   no         notckd\n",
            "337  337  44.0   70.0  1.025  0.0  0.0    normal    normal  notpresent  notpresent   92.0   40.0   0.90  141.0   4.9  14.0    52    7500  6.2   no     no    no  good   no   no         notckd\n",
            "338  338  62.0   80.0  1.020  0.0  0.0    normal    normal  notpresent  notpresent  132.0   34.0   0.80  147.0   3.5  17.8    44    4700  4.5   no     no    no  good   no   no         notckd\n",
            "339  339  25.0   70.0  1.020  0.0  0.0    normal    normal  notpresent  notpresent   88.0   42.0   0.50  136.0   3.5  13.3    48    7000  4.9   no     no    no  good   no   no         notckd\n",
            "340  340  32.0   70.0  1.025  0.0  0.0    normal    normal  notpresent  notpresent  100.0   29.0   1.10  142.0   4.5  14.3    43    6700  5.9   no     no    no  good   no   no         notckd\n",
            "341  341  63.0   70.0  1.025  0.0  0.0    normal    normal  notpresent  notpresent  130.0   37.0   0.90  150.0   5.0  13.4    41    7300  4.7   no     no    no  good   no   no         notckd\n",
            "342  342  44.0   60.0  1.020  0.0  0.0    normal    normal  notpresent  notpresent   95.0   46.0   0.50  138.0   4.2  15.0    50    7700  6.3   no     no    no  good   no   no         notckd\n",
            "343  343  37.0   60.0  1.025  0.0  0.0    normal    normal  notpresent  notpresent  111.0   35.0   0.80  135.0   4.1  16.2    50    5500  5.7   no     no    no  good   no   no         notckd\n",
            "344  344  64.0   60.0  1.020  0.0  0.0    normal    normal  notpresent  notpresent  106.0   27.0   0.70  150.0   3.3  14.4    42    8100  4.7   no     no    no  good   no   no         notckd\n",
            "345  345  22.0   60.0  1.025  0.0  0.0    normal    normal  notpresent  notpresent   97.0   18.0   1.20  138.0   4.3  13.5    42    7900  6.4   no     no    no  good   no   no         notckd\n",
            "346  346  33.0   60.0    NaN  NaN  NaN    normal    normal  notpresent  notpresent  130.0   41.0   0.90  141.0   4.4  15.5    52    4300  5.8   no     no    no  good   no   no         notckd\n",
            "347  347  43.0   60.0  1.025  0.0  0.0    normal    normal  notpresent  notpresent  108.0   25.0   1.00  144.0   5.0  17.8    43    7200  5.5   no     no    no  good   no   no         notckd\n",
            "348  348  38.0   80.0  1.020  0.0  0.0    normal    normal  notpresent  notpresent   99.0   19.0   0.50  147.0   3.5  13.6    44    7300  6.4   no     no    no  good   no   no         notckd\n",
            "349  349  35.0   70.0  1.025  0.0  0.0       NaN       NaN  notpresent  notpresent   82.0   36.0   1.10  150.0   3.5  14.5    52    9400  6.1   no     no    no  good   no   no         notckd\n",
            "350  350  65.0   70.0  1.025  0.0  0.0       NaN       NaN  notpresent  notpresent   85.0   20.0   1.00  142.0   4.8  16.1    43    9600  4.5   no     no    no  good   no   no         notckd\n",
            "351  351  29.0   80.0  1.020  0.0  0.0    normal    normal  notpresent  notpresent   83.0   49.0   0.90  139.0   3.3  17.5    40    9900  4.7   no     no    no  good   no   no         notckd\n",
            "352  352  37.0   60.0  1.020  0.0  0.0    normal    normal  notpresent  notpresent  109.0   47.0   1.10  141.0   4.9  15.0    48    7000  5.2   no     no    no  good   no   no         notckd\n",
            "353  353  39.0   60.0  1.020  0.0  0.0    normal    normal  notpresent  notpresent   86.0   37.0   0.60  150.0   5.0  13.6    51    5800  4.5   no     no    no  good   no   no         notckd\n",
            "354  354  32.0   60.0  1.025  0.0  0.0    normal    normal  notpresent  notpresent  102.0   17.0   0.40  147.0   4.7  14.6    41    6800  5.1   no     no    no  good   no   no         notckd\n",
            "355  355  23.0   60.0  1.020  0.0  0.0    normal    normal  notpresent  notpresent   95.0   24.0   0.80  145.0   5.0  15.0    52    6300  4.6   no     no    no  good   no   no         notckd\n",
            "356  356  34.0   70.0  1.025  0.0  0.0    normal    normal  notpresent  notpresent   87.0   38.0   0.50  144.0   4.8  17.1    47    7400  6.1   no     no    no  good   no   no         notckd\n",
            "357  357  66.0   70.0  1.025  0.0  0.0    normal    normal  notpresent  notpresent  107.0   16.0   1.10  140.0   3.6  13.6    42   11000  4.9   no     no    no  good   no   no         notckd\n",
            "358  358  47.0   60.0  1.020  0.0  0.0    normal    normal  notpresent  notpresent  117.0   22.0   1.20  138.0   3.5  13.0    45    5200  5.6   no     no    no  good   no   no         notckd\n",
            "359  359  74.0   60.0  1.020  0.0  0.0    normal    normal  notpresent  notpresent   88.0   50.0   0.60  147.0   3.7  17.2    53    6000  4.5   no     no    no  good   no   no         notckd\n",
            "360  360  35.0   60.0  1.025  0.0  0.0    normal    normal  notpresent  notpresent  105.0   39.0   0.50  135.0   3.9  14.7    43    5800  6.2   no     no    no  good   no   no         notckd\n",
            "361  361  29.0   80.0  1.020  0.0  0.0    normal    normal  notpresent  notpresent   70.0   16.0   0.70  138.0   3.5  13.7    54    5400  5.8   no     no    no  good   no   no         notckd\n",
            "362  362  33.0   80.0  1.025  0.0  0.0    normal    normal  notpresent  notpresent   89.0   19.0   1.10  144.0   5.0  15.0    40   10300  4.8   no     no    no  good   no   no         notckd\n",
            "363  363  67.0   80.0  1.025  0.0  0.0    normal    normal  notpresent  notpresent   99.0   40.0   0.50    NaN   NaN  17.8    44    5900  5.2   no     no    no  good   no   no         notckd\n",
            "364  364  73.0   80.0  1.025  0.0  0.0    normal    normal  notpresent  notpresent  118.0   44.0   0.70  137.0   3.5  14.8    45    9300  4.7   no     no    no  good   no   no         notckd\n",
            "365  365  24.0   80.0  1.020  0.0  0.0    normal    normal  notpresent  notpresent   93.0   46.0   1.00  145.0   3.5   NaN   NaN   10700  6.3   no     no    no  good   no   no         notckd\n",
            "366  366  60.0   80.0  1.025  0.0  0.0    normal    normal  notpresent  notpresent   81.0   15.0   0.50  141.0   3.6  15.0    46   10500  5.3   no     no    no  good   no   no         notckd\n",
            "367  367  68.0   60.0  1.025  0.0  0.0    normal    normal  notpresent  notpresent  125.0   41.0   1.10  139.0   3.8  17.4    50    6700  6.1   no     no    no  good   no   no         notckd\n",
            "368  368  30.0   80.0  1.025  0.0  0.0    normal    normal  notpresent  notpresent   82.0   42.0   0.70  146.0   5.0  14.9    45    9400  5.9   no     no    no  good   no   no         notckd\n",
            "369  369  75.0   70.0  1.020  0.0  0.0    normal    normal  notpresent  notpresent  107.0   48.0   0.80  144.0   3.5  13.6    46   10300  4.8   no     no    no  good   no   no         notckd\n",
            "370  370  69.0   70.0  1.020  0.0  0.0    normal    normal  notpresent  notpresent   83.0   42.0   1.20  139.0   3.7  16.2    50    9300  5.4   no     no    no  good   no   no         notckd\n",
            "371  371  28.0   60.0  1.025  0.0  0.0    normal    normal  notpresent  notpresent   79.0   50.0   0.50  145.0   5.0  17.6    51    6500  5.0   no     no    no  good   no   no         notckd\n",
            "372  372  72.0   60.0  1.020  0.0  0.0    normal    normal  notpresent  notpresent  109.0   26.0   0.90  150.0   4.9  15.0    52   10500  5.5   no     no    no  good   no   no         notckd\n",
            "373  373  61.0   70.0  1.025  0.0  0.0    normal    normal  notpresent  notpresent  133.0   38.0   1.00  142.0   3.6  13.7    47    9200  4.9   no     no    no  good   no   no         notckd\n",
            "374  374  79.0   80.0  1.025  0.0  0.0    normal    normal  notpresent  notpresent  111.0   44.0   1.20  146.0   3.6  16.3    40    8000  6.4   no     no    no  good   no   no         notckd\n",
            "375  375  70.0   80.0  1.020  0.0  0.0    normal    normal  notpresent  notpresent   74.0   41.0   0.50  143.0   4.5  15.1    48    9700  5.6   no     no    no  good   no   no         notckd\n",
            "376  376  58.0   70.0  1.025  0.0  0.0    normal    normal  notpresent  notpresent   88.0   16.0   1.10  147.0   3.5  16.4    53    9100  5.2   no     no    no  good   no   no         notckd\n",
            "377  377  64.0   70.0  1.020  0.0  0.0    normal    normal  notpresent  notpresent   97.0   27.0   0.70  145.0   4.8  13.8    49    6400  4.8   no     no    no  good   no   no         notckd\n",
            "378  378  71.0   60.0  1.025  0.0  0.0    normal    normal  notpresent  notpresent    NaN    NaN   0.90  140.0   4.8  15.2    42    7700  5.5   no     no    no  good   no   no         notckd\n",
            "379  379  62.0   80.0  1.025  0.0  0.0    normal    normal  notpresent  notpresent   78.0   45.0   0.60  138.0   3.5  16.1    50    5400  5.7   no     no    no  good   no   no         notckd\n",
            "380  380  59.0   60.0  1.020  0.0  0.0    normal    normal  notpresent  notpresent  113.0   23.0   1.10  139.0   3.5  15.3    54    6500  4.9   no     no    no  good   no   no         notckd\n",
            "381  381  71.0   70.0  1.025  0.0  0.0       NaN       NaN  notpresent  notpresent   79.0   47.0   0.50  142.0   4.8  16.6    40    5800  5.9   no     no    no  good   no   no         notckd\n",
            "382  382  48.0   80.0  1.025  0.0  0.0    normal    normal  notpresent  notpresent   75.0   22.0   0.80  137.0   5.0  16.8    51    6000  6.5   no     no    no  good   no   no         notckd\n",
            "383  383  80.0   80.0  1.025  0.0  0.0    normal    normal  notpresent  notpresent  119.0   46.0   0.70  141.0   4.9  13.9    49    5100  5.0   no     no    no  good   no   no         notckd\n",
            "384  384  57.0   60.0  1.020  0.0  0.0    normal    normal  notpresent  notpresent  132.0   18.0   1.10  150.0   4.7  15.4    42   11000  4.5   no     no    no  good   no   no         notckd\n",
            "385  385  63.0   70.0  1.020  0.0  0.0    normal    normal  notpresent  notpresent  113.0   25.0   0.60  146.0   4.9  16.5    52    8000  5.1   no     no    no  good   no   no         notckd\n",
            "386  386  46.0   70.0  1.025  0.0  0.0    normal    normal  notpresent  notpresent  100.0   47.0   0.50  142.0   3.5  16.4    43    5700  6.5   no     no    no  good   no   no         notckd\n",
            "387  387  15.0   80.0  1.025  0.0  0.0    normal    normal  notpresent  notpresent   93.0   17.0   0.90  136.0   3.9  16.7    50    6200  5.2   no     no    no  good   no   no         notckd\n",
            "388  388  51.0   80.0  1.020  0.0  0.0    normal    normal  notpresent  notpresent   94.0   15.0   1.20  144.0   3.7  15.5    46    9500  6.4   no     no    no  good   no   no         notckd\n",
            "389  389  41.0   80.0  1.025  0.0  0.0    normal    normal  notpresent  notpresent  112.0   48.0   0.70  140.0   5.0  17.0    52    7200  5.8   no     no    no  good   no   no         notckd\n",
            "390  390  52.0   80.0  1.025  0.0  0.0    normal    normal  notpresent  notpresent   99.0   25.0   0.80  135.0   3.7  15.0    52    6300  5.3   no     no    no  good   no   no         notckd\n",
            "391  391  36.0   80.0  1.025  0.0  0.0    normal    normal  notpresent  notpresent   85.0   16.0   1.10  142.0   4.1  15.6    44    5800  6.3   no     no    no  good   no   no         notckd\n",
            "392  392  57.0   80.0  1.020  0.0  0.0    normal    normal  notpresent  notpresent  133.0   48.0   1.20  147.0   4.3  14.8    46    6600  5.5   no     no    no  good   no   no         notckd\n",
            "393  393  43.0   60.0  1.025  0.0  0.0    normal    normal  notpresent  notpresent  117.0   45.0   0.70  141.0   4.4  13.0    54    7400  5.4   no     no    no  good   no   no         notckd\n",
            "394  394  50.0   80.0  1.020  0.0  0.0    normal    normal  notpresent  notpresent  137.0   46.0   0.80  139.0   5.0  14.1    45    9500  4.6   no     no    no  good   no   no         notckd\n",
            "395  395  55.0   80.0  1.020  0.0  0.0    normal    normal  notpresent  notpresent  140.0   49.0   0.50  150.0   4.9  15.7    47    6700  4.9   no     no    no  good   no   no         notckd\n",
            "396  396  42.0   70.0  1.025  0.0  0.0    normal    normal  notpresent  notpresent   75.0   31.0   1.20  141.0   3.5  16.5    54    7800  6.2   no     no    no  good   no   no         notckd\n",
            "397  397  12.0   80.0  1.020  0.0  0.0    normal    normal  notpresent  notpresent  100.0   26.0   0.60  137.0   4.4  15.8    49    6600  5.4   no     no    no  good   no   no         notckd\n",
            "398  398  17.0   60.0  1.025  0.0  0.0    normal    normal  notpresent  notpresent  114.0   50.0   1.00  135.0   4.9  14.2    51    7200  5.9   no     no    no  good   no   no         notckd\n",
            "399  399  58.0   80.0  1.025  0.0  0.0    normal    normal  notpresent  notpresent  131.0   18.0   1.10  141.0   3.5  15.8    53    6800  6.1   no     no    no  good   no   no         notckd\n"
          ]
        }
      ]
    },
    {
      "cell_type": "markdown",
      "metadata": {
        "id": "24ppvqlVD76W"
      },
      "source": [
        "# 1. Categorical Data"
      ]
    },
    {
      "cell_type": "markdown",
      "metadata": {
        "id": "c4my_t8ID76Y"
      },
      "source": [
        "## a. Countplot"
      ]
    },
    {
      "cell_type": "markdown",
      "source": [
        "# **seaborn.countplot() method is used to Show the counts of observations in each categorical bin using bars.**"
      ],
      "metadata": {
        "id": "e9TyAEF_YLF2"
      }
    },
    {
      "cell_type": "code",
      "execution_count": null,
      "metadata": {
        "id": "BZsn8XnhD76Y",
        "outputId": "d74801ea-8d10-460b-c938-ee13705a712b",
        "colab": {
          "base_uri": "https://localhost:8080/",
          "height": 467
        }
      },
      "outputs": [
        {
          "output_type": "execute_result",
          "data": {
            "text/plain": [
              "<Axes: xlabel='count', ylabel='rbc'>"
            ]
          },
          "metadata": {},
          "execution_count": 27
        },
        {
          "output_type": "display_data",
          "data": {
            "text/plain": [
              "<Figure size 640x480 with 1 Axes>"
            ],
            "image/png": "[encoded data removed]"
          },
          "metadata": {}
        }
      ],
      "source": [
        "sns.countplot(df['rbc'])\n",
        "#df['RED BLOOD CELL'].value_counts().plot(kind='bar')"
      ]
    },
    {
      "cell_type": "markdown",
      "metadata": {
        "id": "ADsFohtND76Z"
      },
      "source": [
        "## b. PieChart"
      ]
    },
    {
      "cell_type": "code",
      "execution_count": 5,
      "metadata": {
        "id": "ejdLVpYtD76Z",
        "outputId": "b6f29de2-af19-4580-96b3-eaf669f10b20",
        "colab": {
          "base_uri": "https://localhost:8080/",
          "height": 424
        }
      },
      "outputs": [
        {
          "output_type": "execute_result",
          "data": {
            "text/plain": [
              "<Axes: ylabel='count'>"
            ]
          },
          "metadata": {},
          "execution_count": 5
        },
        {
          "output_type": "display_data",
          "data": {
            "text/plain": [
              "<Figure size 640x480 with 1 Axes>"
            ],
            "image/png": "[encoded data removed]"
          },
          "metadata": {}
        }
      ],
      "source": [
        "df['su'].value_counts().plot(kind='pie',autopct='%.2f')"
      ]
    },
    {
      "cell_type": "markdown",
      "metadata": {
        "id": "oksQiNrkD76a"
      },
      "source": [
        "<div style=\"border-top:black 2px solid\"></div>"
      ]
    },
    {
      "cell_type": "markdown",
      "metadata": {
        "id": "1Dka2VRsD76a"
      },
      "source": [
        "# 2. Numerical Data"
      ]
    },
    {
      "cell_type": "markdown",
      "metadata": {
        "id": "h83lwqBhD76a"
      },
      "source": [
        "## a. Histogram"
      ]
    },
    {
      "cell_type": "code",
      "execution_count": null,
      "metadata": {
        "id": "rZGmmCz4D76b",
        "outputId": "d33f1d8e-c1b2-4c9e-ae95-dd28fd5f533d",
        "colab": {
          "base_uri": "https://localhost:8080/",
          "height": 484
        }
      },
      "outputs": [
        {
          "output_type": "execute_result",
          "data": {
            "text/plain": [
              "(array([ 21.,  59., 115., 165.,  31.]),\n",
              " array([ 2. , 19.6, 37.2, 54.8, 72.4, 90. ]),\n",
              " <BarContainer object of 5 artists>)"
            ]
          },
          "metadata": {},
          "execution_count": 21
        },
        {
          "output_type": "display_data",
          "data": {
            "text/plain": [
              "<Figure size 640x480 with 1 Axes>"
            ],
            "image/png": "[encoded data removed]"
          },
          "metadata": {}
        }
      ],
      "source": [
        "import matplotlib.pyplot as plt\n",
        "plt.hist(df['age'],bins=5) #bins=5: This specifies that the data should be divided into 5 equal-width intervals (bins) in the histogram."
      ]
    },
    {
      "cell_type": "markdown",
      "metadata": {
        "id": "0Ke-VGarD76b"
      },
      "source": [
        "## b. Distplot"
      ]
    },
    {
      "cell_type": "code",
      "execution_count": null,
      "metadata": {
        "id": "g19QzSf_D76b",
        "outputId": "c8d3bfe8-61f1-4c98-c3c3-8c952a50fe31",
        "colab": {
          "base_uri": "https://localhost:8080/",
          "height": 664
        }
      },
      "outputs": [
        {
          "output_type": "stream",
          "name": "stderr",
          "text": [
            "<ipython-input-22-e96bb33f41ec>:1: UserWarning: \n",
            "\n",
            "`distplot` is a deprecated function and will be removed in seaborn v0.14.0.\n",
            "\n",
            "Please adapt your code to use either `displot` (a figure-level function with\n",
            "similar flexibility) or `histplot` (an axes-level function for histograms).\n",
            "\n",
            "For a guide to updating your code to use the new functions, please see\n",
            "https://gist.github.com/mwaskom/de44147ed2974457ad6372750bbe5751\n",
            "\n",
            "  sns.distplot(df['su'])\n"
          ]
        },
        {
          "output_type": "execute_result",
          "data": {
            "text/plain": [
              "<Axes: xlabel='su', ylabel='Density'>"
            ]
          },
          "metadata": {},
          "execution_count": 22
        },
        {
          "output_type": "display_data",
          "data": {
            "text/plain": [
              "<Figure size 640x480 with 1 Axes>"
            ],
            "image/png": "[encoded data removed]"
          },
          "metadata": {}
        }
      ],
      "source": [
        "sns.distplot(df['su'])"
      ]
    },
    {
      "cell_type": "markdown",
      "metadata": {
        "id": "ducHQKHtD76c"
      },
      "source": [
        "## c. Boxplot"
      ]
    },
    {
      "cell_type": "code",
      "execution_count": null,
      "metadata": {
        "id": "Pmy7riRLD76c",
        "outputId": "2af41b5c-d018-4cdf-857b-d524fe2ee8fe",
        "colab": {
          "base_uri": "https://localhost:8080/",
          "height": 429
        }
      },
      "outputs": [
        {
          "output_type": "execute_result",
          "data": {
            "text/plain": [
              "<Axes: ylabel='bp'>"
            ]
          },
          "metadata": {},
          "execution_count": 30
        },
        {
          "output_type": "display_data",
          "data": {
            "text/plain": [
              "<Figure size 640x480 with 1 Axes>"
            ],
            "image/png": "[encoded data removed]"
          },
          "metadata": {}
        }
      ],
      "source": [
        "sns.boxplot(df['bp'])"
      ]
    },
    {
      "cell_type": "code",
      "execution_count": null,
      "metadata": {
        "id": "ZQbEpHFHD76c",
        "outputId": "cfd3bd3c-233a-4c17-f02a-9d7a00c11a68",
        "colab": {
          "base_uri": "https://localhost:8080/"
        }
      },
      "outputs": [
        {
          "output_type": "execute_result",
          "data": {
            "text/plain": [
              "2.0"
            ]
          },
          "metadata": {},
          "execution_count": 12
        }
      ],
      "source": [
        "df['age'].min()"
      ]
    },
    {
      "cell_type": "code",
      "execution_count": null,
      "metadata": {
        "id": "ROHZemMSD76c",
        "outputId": "3a752d27-17e4-43bd-c70c-2f89be63aec0",
        "colab": {
          "base_uri": "https://localhost:8080/"
        }
      },
      "outputs": [
        {
          "output_type": "execute_result",
          "data": {
            "text/plain": [
              "90.0"
            ]
          },
          "metadata": {},
          "execution_count": 13
        }
      ],
      "source": [
        "df['age'].max()"
      ]
    },
    {
      "cell_type": "code",
      "execution_count": null,
      "metadata": {
        "id": "h5NYdSyLD76d",
        "outputId": "06f148ab-824a-461c-cab6-70b85ea54ae0",
        "colab": {
          "base_uri": "https://localhost:8080/"
        }
      },
      "outputs": [
        {
          "output_type": "execute_result",
          "data": {
            "text/plain": [
              "51.48337595907928"
            ]
          },
          "metadata": {},
          "execution_count": 14
        }
      ],
      "source": [
        "df['age'].mean()"
      ]
    },
    {
      "cell_type": "code",
      "execution_count": null,
      "metadata": {
        "id": "BN6d_VmlD76d",
        "outputId": "f686164b-3948-4ce2-da07-aecb3852b34e",
        "colab": {
          "base_uri": "https://localhost:8080/"
        }
      },
      "outputs": [
        {
          "output_type": "execute_result",
          "data": {
            "text/plain": [
              "-0.6682594691593559"
            ]
          },
          "metadata": {},
          "execution_count": 15
        }
      ],
      "source": [
        "df['age'].skew()"
      ]
    },
    {
      "cell_type": "code",
      "execution_count": null,
      "metadata": {
        "id": "3kChlfjcD76e"
      },
      "outputs": [],
      "source": []
    }
  ],
  "metadata": {
    "kernelspec": {
      "display_name": "Python 3",
      "language": "python",
      "name": "python3"
    },
    "language_info": {
      "codemirror_mode": {
        "name": "ipython",
        "version": 3
      },
      "file_extension": ".py",
      "mimetype": "text/x-python",
      "name": "python",
      "nbconvert_exporter": "python",
      "pygments_lexer": "ipython3",
      "version": "3.8.3"
    },
    "colab": {
      "provenance": [],
      "include_colab_link": true
    }
  },
  "nbformat": 4,
  "nbformat_minor": 0
}